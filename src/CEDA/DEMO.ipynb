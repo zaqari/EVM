{
 "cells": [
  {
   "cell_type": "markdown",
   "source": [
    "# Demo of the Convergence Exploratory Data Analysis (CEDA) Tool"
   ],
   "metadata": {
    "collapsed": false
   },
   "id": "b8e9990f61af35a7"
  },
  {
   "cell_type": "code",
   "execution_count": null,
   "outputs": [],
   "source": [
    "import pandas as pd\n",
    "import numpy as np"
   ],
   "metadata": {
    "collapsed": false
   },
   "id": "625f3ae88040b147"
  },
  {
   "cell_type": "markdown",
   "source": [
    "## 1. Fit the model"
   ],
   "metadata": {
    "collapsed": false
   },
   "id": "22dbc732b2e57e7d"
  },
  {
   "cell_type": "markdown",
   "source": [
    "I ran this entirely via a script in a local machine and then saved a checkpoint for this demo (see `BCL_CEDA.py`). But for reference, the code ought to look like this when fitting the model."
   ],
   "metadata": {
    "collapsed": false
   },
   "id": "31a4daf54122a695"
  },
  {
   "cell_type": "markdown",
   "source": [
    "### 1.1 Importing Data"
   ],
   "metadata": {
    "collapsed": false
   },
   "id": "f86cd540b736e6bd"
  },
  {
   "cell_type": "code",
   "execution_count": null,
   "outputs": [],
   "source": [
    "dataset = ''\n",
    "text_column_name = ''\n",
    "meta_data_columns = []\n",
    "CEDA_checkpoint_name = 'CEDA-CKPT.pt'"
   ],
   "metadata": {
    "collapsed": false
   },
   "id": "23605e324432f99c"
  },
  {
   "cell_type": "code",
   "execution_count": null,
   "outputs": [],
   "source": [
    "df = pd.read_csv(dataset)\n",
    "df.head()"
   ],
   "metadata": {
    "collapsed": false
   },
   "id": "c07a08a97e9bac05"
  },
  {
   "cell_type": "markdown",
   "source": [
    "### 1.2 Creating a CEDA model object and fitting it"
   ],
   "metadata": {
    "collapsed": false
   },
   "id": "11ebd76f2e200f91"
  },
  {
   "cell_type": "code",
   "execution_count": null,
   "outputs": [],
   "source": [
    "from . import ceda_model\n",
    "\n",
    "graph = ceda_model(\n",
    "    sigma=1.5,\n",
    "    device='cuda',\n",
    "    wv_layers=[8,-1]\n",
    ")"
   ],
   "metadata": {
    "collapsed": false
   },
   "id": "c275654fc95e6bd3"
  },
  {
   "cell_type": "code",
   "execution_count": null,
   "outputs": [],
   "source": [
    "graph.fit(df[text_column_name].values)"
   ],
   "metadata": {
    "collapsed": false
   },
   "id": "3b107227fe894f7d"
  },
  {
   "cell_type": "markdown",
   "source": [
    "and adding additional labels for graph metadata."
   ],
   "metadata": {
    "collapsed": false
   },
   "id": "a39e2145149de24c"
  },
  {
   "cell_type": "code",
   "execution_count": null,
   "outputs": [],
   "source": [
    "graph.add_labels(\n",
    "    x_labels=df[meta_data_columns].to_dict(orient='records'),\n",
    "    y_labels=df[meta_data_columns].to_dict(orient='records')\n",
    ")"
   ],
   "metadata": {
    "collapsed": false
   },
   "id": "bd686b791b400f3c"
  },
  {
   "cell_type": "markdown",
   "source": [
    "saving a model checkpoint for later."
   ],
   "metadata": {
    "collapsed": false
   },
   "id": "97e472f8fdd2362b"
  },
  {
   "cell_type": "code",
   "execution_count": null,
   "outputs": [],
   "source": [
    "graph.checkpoint(CEDA_checkpoint_name)"
   ],
   "metadata": {
    "collapsed": false
   },
   "id": "b7d77d0831223c92"
  },
  {
   "cell_type": "markdown",
   "source": [
    "## 2. Visualizer and Exploratory Data Analysis (EDA)"
   ],
   "metadata": {
    "collapsed": false
   },
   "id": "1c4e4bbd89cfaca"
  },
  {
   "cell_type": "code",
   "execution_count": null,
   "outputs": [],
   "source": "from . import ceda_model, EDA",
   "metadata": {
    "collapsed": false
   },
   "id": "4ba4d2f8f3224d1b"
  },
  {
   "cell_type": "code",
   "execution_count": null,
   "outputs": [],
   "source": [
    "graph = ceda_model()\n",
    "graph.load_from_checkpoint(CEDA_checkpoint_name)"
   ],
   "metadata": {
    "collapsed": false
   },
   "id": "eff2ca6d41644745"
  },
  {
   "cell_type": "code",
   "execution_count": null,
   "outputs": [],
   "source": "eda = EDA(graph)",
   "metadata": {
    "collapsed": false
   },
   "id": "e5ebcfbc7c1df14a"
  },
  {
   "cell_type": "markdown",
   "source": [
    "### 2.1 Labeled recurrence plot"
   ],
   "metadata": {
    "collapsed": false
   },
   "id": "1a34532ec688aa3e"
  },
  {
   "cell_type": "code",
   "execution_count": null,
   "outputs": [],
   "source": [
    "fig = eda.recurrence_plot()\n",
    "fig.show()"
   ],
   "metadata": {
    "collapsed": false
   },
   "id": "4882f17b8bf3de57"
  },
  {
   "cell_type": "markdown",
   "source": [
    "### 2.2 Looking up linked utterances\n",
    "\n",
    "Takes an index from graph.texts and returns a json containing that graph and k-samples of texts that have greater than some degree of similarity, `min_cutoff`."
   ],
   "metadata": {
    "collapsed": false
   },
   "id": "193360c2c4e47a71"
  },
  {
   "cell_type": "code",
   "execution_count": null,
   "outputs": [],
   "source": [
    "eda.get_linked_examples(0, min_cutoff=2.)"
   ],
   "metadata": {
    "collapsed": false
   },
   "id": "ff9808901543e7bd"
  },
  {
   "cell_type": "markdown",
   "source": [
    "### 2.3 c-TF-IDF visualizer"
   ],
   "metadata": {
    "collapsed": false
   },
   "id": "2556807c3c081b4d"
  },
  {
   "cell_type": "code",
   "execution_count": null,
   "outputs": [],
   "source": [
    "fig = eda.TFIDF(k_topic_words=3, n_topics=9)\n",
    "fig.show()"
   ],
   "metadata": {
    "collapsed": false
   },
   "id": "23ef72cdb157c071"
  }
 ],
 "metadata": {
  "kernelspec": {
   "display_name": "Python 3",
   "language": "python",
   "name": "python3"
  },
  "language_info": {
   "codemirror_mode": {
    "name": "ipython",
    "version": 2
   },
   "file_extension": ".py",
   "mimetype": "text/x-python",
   "name": "python",
   "nbconvert_exporter": "python",
   "pygments_lexer": "ipython2",
   "version": "2.7.6"
  }
 },
 "nbformat": 4,
 "nbformat_minor": 5
}
