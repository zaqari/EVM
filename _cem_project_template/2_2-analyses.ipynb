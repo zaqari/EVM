{
 "cells": [
  {
   "cell_type": "markdown",
   "metadata": {
    "collapsed": true,
    "jupyter": {
     "outputs_hidden": true
    },
    "pycharm": {
     "name": "#%% md\n"
    }
   },
   "source": "# Analyzing linguistic adaptation in terms of entropy"
  },
  {
   "cell_type": "code",
   "metadata": {
    "collapsed": false,
    "jupyter": {
     "outputs_hidden": false
    }
   },
   "source": [
    "import os\n",
    "import re\n",
    "\n",
    "DATA_PATH = 'data/results'\n",
    "DATA_FILE = 'ceda-results.csv'\n",
    "\n",
    "REPORTING_PATH = 'data/reports'\n",
    "REPORT_NAME = os.path.join(REPORTING_PATH, 'report-{}.csv')\n",
    "MODEL_PERFORMANCE_NAME = os.path.join(REPORTING_PATH, 'model-comparison.csv')\n",
    "\n",
    "lollipop_vis_name = 'lollipop.png'"
   ],
   "outputs": [],
   "execution_count": null
  },
  {
   "cell_type": "markdown",
   "metadata": {
    "collapsed": false,
    "jupyter": {
     "outputs_hidden": false
    }
   },
   "source": [
    "## Main Analyses and Results"
   ]
  },
  {
   "cell_type": "code",
   "metadata": {},
   "source": [
    "import pandas as pd\n",
    "import numpy as np\n",
    "from tqdm import tqdm\n",
    "import statsmodels.formula.api as smf\n",
    "from datetime import datetime as dt\n",
    "\n",
    "df = pd.read_csv(os.path.join(DATA_PATH, DATA_FILE))\n",
    "# df = df.loc[\n",
    "#     (df['nx'] >= 5)\n",
    "#     & (df['ny'] >= 5)\n",
    "#     # & (df['comment_delta_abs'] <= 20)\n",
    "# ] # limit by comment size\n",
    "df.shape"
   ],
   "outputs": [],
   "execution_count": null
  },
  {
   "metadata": {},
   "cell_type": "code",
   "source": [
    "unix_time = True\n",
    "\n",
    "if not unix_time:\n",
    "    contexts = pd.concat([\n",
    "        df[['x_context_id', 'x_context_time']].drop_duplicates(),\n",
    "        df[['y_context_id', 'y_context_time']].drop_duplicates().copy().rename(columns={'y_context_id': 'x_context_id', 'y_context_time': 'x_context_time'}),\n",
    "    ], ignore_index=True).drop_duplicates().sort_values(by='x_context_time').values\n",
    "    \n",
    "    convert_context_times = {context: i+1 for i, context in enumerate(contexts[:,0])}\n",
    "    \n",
    "    df['x_context_time'] = [convert_context_times[context] for context in tqdm(df['x_context_id'].values)]\n",
    "    df['y_context_time'] = [convert_context_times[context] for context in tqdm(df['y_context_id'].values)]\n",
    "    \n",
    "\n",
    "# time difference in unix time\n",
    "df['time_delta'] = df['x_context_time'] - df['y_context_time']"
   ],
   "outputs": [],
   "execution_count": null
  },
  {
   "metadata": {},
   "cell_type": "code",
   "source": "df['tag_in_context'] = [df['x_tag'].loc[i] in df['y_tag'].loc[i] for i in tqdm(df.index)]",
   "outputs": [],
   "execution_count": null
  },
  {
   "metadata": {},
   "cell_type": "code",
   "source": "# df['cc_is_parent'].value_counts()",
   "outputs": [],
   "execution_count": null
  },
  {
   "metadata": {},
   "cell_type": "code",
   "source": "# df['cc_is_child'].value_counts()",
   "outputs": [],
   "execution_count": null
  },
  {
   "metadata": {},
   "cell_type": "code",
   "source": "# df['cc_is_sibling'].value_counts()",
   "outputs": [],
   "execution_count": null
  },
  {
   "metadata": {},
   "cell_type": "code",
   "source": "df.head()",
   "outputs": [],
   "execution_count": null
  },
  {
   "cell_type": "markdown",
   "metadata": {
    "collapsed": false,
    "jupyter": {
     "outputs_hidden": false
    }
   },
   "source": "### Model 1: Linguistic Adaptation as Linear Change Over Time"
  },
  {
   "cell_type": "code",
   "metadata": {
    "collapsed": false,
    "jupyter": {
     "outputs_hidden": false
    }
   },
   "source": [
    "##########################################\n",
    "## Main model\n",
    "##########################################\n",
    "# model = \"Hxy ~ nx + ny + time_delta + x_comment_ups + y_comment_ups +  cc_is_parent + cc_is_sibling + cc_is_child + (1|x_user) + (1|y_user) + (1|y_submission_id)\"\n",
    "model = \"Hxy ~ nx + ny + tag_in_context + time_delta + x_comment_ups + y_comment_ups + (1|x_user) + (1|y_user) + (1|y_submission_id)\"\n",
    "\n",
    "##########################################\n",
    "\n",
    "start = dt.now()\n",
    "md = smf.mixedlm(model, data=df, groups=df['x_comment_id'])\n",
    "mdf = md.fit()\n",
    "print('completed in:', dt.now()-start)"
   ],
   "outputs": [],
   "execution_count": null
  },
  {
   "cell_type": "markdown",
   "metadata": {
    "collapsed": false,
    "jupyter": {
     "outputs_hidden": false
    }
   },
   "source": [
    "Reporting on the model outputs in a dataframe"
   ]
  },
  {
   "cell_type": "code",
   "metadata": {
    "collapsed": false,
    "jupyter": {
     "outputs_hidden": false
    }
   },
   "source": [
    "reporting = pd.DataFrame()\n",
    "reporting['coefs'] = mdf.params\n",
    "reporting['stat'] = mdf.tvalues\n",
    "reporting['p'] = mdf.pvalues\n",
    "reporting['CI[.025, .975]'] = ['[{}]'.format(', '.join([np.format_float_scientific(x, precision=2) for x in ci.tolist()])) for ci in mdf.conf_int().values]\n",
    "\n",
    "reporting['coefs'] = reporting['coefs'].apply(lambda x: np.format_float_scientific(x, precision=2))\n",
    "reporting['stat'] = reporting['stat'].apply(lambda x: np.format_float_scientific(x, precision=2))\n",
    "reporting['p'] = reporting['p'].apply(lambda x: np.format_float_scientific(x, precision=2))\n",
    "\n",
    "reporting.head(100)"
   ],
   "outputs": [],
   "execution_count": null
  },
  {
   "cell_type": "code",
   "metadata": {
    "collapsed": false,
    "jupyter": {
     "outputs_hidden": false
    }
   },
   "source": [
    "model_version = 'linear-time-difference'\n",
    "REPORT_NAME_ = REPORT_NAME.format(model_version)\n",
    "\n",
    "reporting.to_csv(REPORT_NAME_, encoding='utf-8')\n",
    "\n",
    "reporting['Var'] = reporting.index.values\n",
    "with open(REPORT_NAME_.replace('.csv', '.txt'), 'w') as f:\n",
    "    txt =  reporting[['Var', 'coefs', 'stat', 'p']].loc[:reporting.index[-2]].to_latex(index=False).replace('\\\\toprule', '\\\\hline').replace('\\\\midrule', '\\\\hline\\\\hline').replace('\\\\bottomrule', '\\\\hline')\n",
    "    f.write(txt)\n",
    "    f.close()"
   ],
   "outputs": [],
   "execution_count": null
  },
  {
   "metadata": {},
   "cell_type": "markdown",
   "source": "saving model performance metrics"
  },
  {
   "metadata": {},
   "cell_type": "code",
   "source": [
    "llf = mdf.llf\n",
    "\n",
    "if not os.path.exists(MODEL_PERFORMANCE_NAME):\n",
    "    dfo = pd.DataFrame([{\n",
    "        'model': model_version, \n",
    "        'LLF': llf, \n",
    "        'params': len(reporting), \n",
    "        'n': df.shape[0],\n",
    "        'BIC': (-2 * llf) + (len(reporting) * np.log(df.shape[0]))\n",
    "    }])\n",
    "    dfo.to_csv(MODEL_PERFORMANCE_NAME, index=False, encoding='utf-8')\n",
    "else:\n",
    "    dfo = pd.DataFrame([{\n",
    "        'model': model_version, \n",
    "        'LLF': llf, \n",
    "        'params': len(reporting), \n",
    "        'n': df.shape[0],\n",
    "        'BIC': (-2 * llf) + (len(reporting) * np.log(df.shape[0]))\n",
    "    }])\n",
    "    dfo.to_csv(MODEL_PERFORMANCE_NAME, index=False, header=False, encoding='utf-8', mode='a')"
   ],
   "outputs": [],
   "execution_count": null
  },
  {
   "metadata": {},
   "cell_type": "markdown",
   "source": "### Model 2: Linguistic Adaptation as Temporally Local"
  },
  {
   "metadata": {},
   "cell_type": "code",
   "source": [
    "df['time_delta_'] = df['time_delta'].abs()\n",
    "##########################################\n",
    "## Main model\n",
    "##########################################\n",
    "# model = \"Hxy ~ nx + ny + time_delta + x_comment_ups + y_comment_ups +  cc_is_parent + cc_is_sibling + cc_is_child + (1|x_user) + (1|y_user) + (1|y_submission_id)\"\n",
    "model = \"Hxy ~ nx + ny + tag_in_context + time_delta_ + x_comment_ups + y_comment_ups + (1|x_user) + (1|y_user) + (1|y_submission_id)\"\n",
    "\n",
    "##########################################\n",
    "\n",
    "start = dt.now()\n",
    "md = smf.mixedlm(model, data=df, groups=df['x_comment_id'])\n",
    "mdf = md.fit()\n",
    "print('completed in:', dt.now()-start)"
   ],
   "outputs": [],
   "execution_count": null
  },
  {
   "metadata": {},
   "cell_type": "markdown",
   "source": "Reporting on the model outputs in a dataframe"
  },
  {
   "metadata": {},
   "cell_type": "code",
   "source": [
    "reporting = pd.DataFrame()\n",
    "reporting['coefs'] = mdf.params\n",
    "reporting['stat'] = mdf.tvalues\n",
    "reporting['p'] = mdf.pvalues\n",
    "reporting['CI[.025, .975]'] = ['[{}]'.format(', '.join([np.format_float_scientific(x, precision=2) for x in ci.tolist()])) for ci in mdf.conf_int().values]\n",
    "\n",
    "reporting['coefs'] = reporting['coefs'].apply(lambda x: np.format_float_scientific(x, precision=2))\n",
    "reporting['stat'] = reporting['stat'].apply(lambda x: np.format_float_scientific(x, precision=2))\n",
    "reporting['p'] = reporting['p'].apply(lambda x: np.format_float_scientific(x, precision=2))\n",
    "\n",
    "reporting.head(100)"
   ],
   "outputs": [],
   "execution_count": null
  },
  {
   "metadata": {},
   "cell_type": "code",
   "source": [
    "model_version = 'locally-bound-time-difference'\n",
    "REPORT_NAME_ = REPORT_NAME.format(model_version)\n",
    "\n",
    "reporting.to_csv(REPORT_NAME_, encoding='utf-8')\n",
    "\n",
    "reporting['Var'] = reporting.index.values\n",
    "with open(REPORT_NAME_.replace('.csv', '.txt'), 'w') as f:\n",
    "    txt =  reporting[['Var', 'coefs', 'stat', 'p']].loc[:reporting.index[-2]].to_latex(index=False).replace('\\\\toprule', '\\\\hline').replace('\\\\midrule', '\\\\hline\\\\hline').replace('\\\\bottomrule', '\\\\hline')\n",
    "    f.write(txt)\n",
    "    f.close()"
   ],
   "outputs": [],
   "execution_count": null
  },
  {
   "metadata": {},
   "cell_type": "markdown",
   "source": "saving model performance metrics"
  },
  {
   "metadata": {},
   "cell_type": "code",
   "source": [
    "llf = mdf.llf\n",
    "\n",
    "if not os.path.exists(MODEL_PERFORMANCE_NAME):\n",
    "    dfo = pd.DataFrame([{\n",
    "        'model': model_version, \n",
    "        'LLF': llf, \n",
    "        'params': len(reporting), \n",
    "        'n': df.shape[0],\n",
    "        'BIC': (-2 * llf) + (len(reporting) * np.log(df.shape[0]))\n",
    "    }])\n",
    "    dfo.to_csv(MODEL_PERFORMANCE_NAME, index=False, encoding='utf-8')\n",
    "else:\n",
    "    dfo = pd.DataFrame([{\n",
    "        'model': model_version, \n",
    "        'LLF': llf, \n",
    "        'params': len(reporting), \n",
    "        'n': df.shape[0],\n",
    "        'BIC': (-2 * llf) + (len(reporting) * np.log(df.shape[0]))\n",
    "    }])\n",
    "    dfo.to_csv(MODEL_PERFORMANCE_NAME, index=False, header=False, encoding='utf-8', mode='a')"
   ],
   "outputs": [],
   "execution_count": null
  },
  {
   "metadata": {},
   "cell_type": "markdown",
   "source": "### Model 3: Linguistic Adaptation as Convergence Behavior Only"
  },
  {
   "metadata": {},
   "cell_type": "code",
   "source": [
    "##########################################\n",
    "## Main model\n",
    "##########################################\n",
    "model = \"Hxy ~ nx + ny + tag_in_context + same_context + x_comment_ups + y_comment_ups + (1|x_user) + (1|y_user) + (1|y_submission_id)\"\n",
    "\n",
    "##########################################\n",
    "\n",
    "start = dt.now()\n",
    "md = smf.mixedlm(model, data=df, groups=df['x_comment_id'])\n",
    "mdf = md.fit()\n",
    "print('completed in:', dt.now()-start)"
   ],
   "outputs": [],
   "execution_count": null
  },
  {
   "metadata": {},
   "cell_type": "markdown",
   "source": "Reporting on the model outputs in a dataframe"
  },
  {
   "metadata": {},
   "cell_type": "code",
   "source": [
    "reporting = pd.DataFrame()\n",
    "reporting['coefs'] = mdf.params\n",
    "reporting['stat'] = mdf.tvalues\n",
    "reporting['p'] = mdf.pvalues\n",
    "reporting['CI[.025, .975]'] = ['[{}]'.format(', '.join([np.format_float_scientific(x, precision=2) for x in ci.tolist()])) for ci in mdf.conf_int().values]\n",
    "\n",
    "reporting['coefs'] = reporting['coefs'].apply(lambda x: np.format_float_scientific(x, precision=2))\n",
    "reporting['stat'] = reporting['stat'].apply(lambda x: np.format_float_scientific(x, precision=2))\n",
    "reporting['p'] = reporting['p'].apply(lambda x: np.format_float_scientific(x, precision=2))\n",
    "\n",
    "reporting.head(100)"
   ],
   "outputs": [],
   "execution_count": null
  },
  {
   "metadata": {},
   "cell_type": "code",
   "source": [
    "model_version = 'convergence-only-difference'\n",
    "REPORT_NAME_ = REPORT_NAME.format(model_version)\n",
    "\n",
    "reporting.to_csv(REPORT_NAME_, encoding='utf-8')\n",
    "\n",
    "reporting['Var'] = reporting.index.values\n",
    "with open(REPORT_NAME_.replace('.csv', '.txt'), 'w') as f:\n",
    "    txt =  reporting[['Var', 'coefs', 'stat', 'p']].loc[:reporting.index[-2]].to_latex(index=False).replace('\\\\toprule', '\\\\hline').replace('\\\\midrule', '\\\\hline\\\\hline').replace('\\\\bottomrule', '\\\\hline')\n",
    "    f.write(txt)\n",
    "    f.close()"
   ],
   "outputs": [],
   "execution_count": null
  },
  {
   "metadata": {},
   "cell_type": "markdown",
   "source": "saving model performance metrics"
  },
  {
   "metadata": {},
   "cell_type": "code",
   "source": [
    "llf = mdf.llf\n",
    "\n",
    "if not os.path.exists(MODEL_PERFORMANCE_NAME):\n",
    "    dfo = pd.DataFrame([{\n",
    "        'model': model_version, \n",
    "        'LLF': llf, \n",
    "        'params': len(reporting), \n",
    "        'n': df.shape[0],\n",
    "        'BIC': (-2 * llf) + (len(reporting) * np.log(df.shape[0]))\n",
    "    }])\n",
    "    dfo.to_csv(MODEL_PERFORMANCE_NAME, index=False, encoding='utf-8')\n",
    "else:\n",
    "    dfo = pd.DataFrame([{\n",
    "        'model': model_version, \n",
    "        'LLF': llf, \n",
    "        'params': len(reporting), \n",
    "        'n': df.shape[0],\n",
    "        'BIC': (-2 * llf) + (len(reporting) * np.log(df.shape[0]))\n",
    "    }])\n",
    "    dfo.to_csv(MODEL_PERFORMANCE_NAME, index=False, header=False, encoding='utf-8', mode='a')"
   ],
   "outputs": [],
   "execution_count": null
  },
  {
   "cell_type": "markdown",
   "metadata": {
    "collapsed": false,
    "jupyter": {
     "outputs_hidden": false
    }
   },
   "source": [
    "## Additional Visualizations/Analyses"
   ]
  },
  {
   "cell_type": "code",
   "metadata": {
    "collapsed": false,
    "jupyter": {
     "outputs_hidden": false
    }
   },
   "source": [
    "import seaborn as sns\n",
    "import matplotlib.pyplot as plt\n",
    "from scipy.stats import kruskal"
   ],
   "outputs": [],
   "execution_count": null
  },
  {
   "cell_type": "markdown",
   "metadata": {
    "collapsed": false,
    "jupyter": {
     "outputs_hidden": false
    }
   },
   "source": [
    "### Lolipop effects plot"
   ]
  },
  {
   "cell_type": "code",
   "metadata": {
    "collapsed": false,
    "jupyter": {
     "outputs_hidden": false
    }
   },
   "source": [
    "import pandas as pd\n",
    "import numpy as np\n",
    "\n",
    "# reporting = pd.read_csv('data/reports/antisemitism/report.csv')\n",
    "reporting = pd.read_csv(os.path.join(REPORTING_PATH,REPORT_NAME))\n",
    "reporting.index = reporting['Unnamed: 0'].values"
   ],
   "outputs": [],
   "execution_count": null
  },
  {
   "cell_type": "code",
   "metadata": {
    "collapsed": false,
    "jupyter": {
     "outputs_hidden": false
    }
   },
   "source": [
    "def lollipop_chart(df, label_col, length_col, save_path=None, aspect=1/15, plot_title='Predicted change in H'):\n",
    "    sns.set_style('darkgrid')\n",
    "    plt.hlines(y=df.index, xmin=0, xmax=df[length_col].values)\n",
    "    plt.plot(df[length_col].values, df.index, 'o')\n",
    "    plt.yticks(df.index, df[label_col].values, rotation=.45, fontsize='small')\n",
    "    plt.axvline(color='maroon')\n",
    "\n",
    "    xlim_delta = df[length_col].__abs__().max() + .1\n",
    "    plt.xlim(-xlim_delta, xlim_delta)\n",
    "    plt.gca().set_aspect(aspect)\n",
    "    plt.tight_layout()\n",
    "    plt.xlabel(plot_title)\n",
    "    if save_path:\n",
    "        plt.savefig(save_path)\n",
    "    plt.show()"
   ],
   "outputs": [],
   "execution_count": null
  },
  {
   "cell_type": "code",
   "metadata": {},
   "source": [
    "import plotly.graph_objs as go\n",
    "\n",
    "marker_offset = 0.0004\n",
    "\n",
    "def offset_signal(signal, marker_offset):\n",
    "    if abs(signal) <= marker_offset:\n",
    "        return 0\n",
    "    return signal - marker_offset if signal > 0 else signal + marker_offset\n",
    "\n",
    "def plotly_lollipop(df, label_col, length_col, save_path=None, plot_title='', color='blue', marker_size=2):\n",
    "    points = df[length_col].to_list()\n",
    "    heights = list(range(len(df)))\n",
    "    \n",
    "    data = [\n",
    "    go.Scatter(\n",
    "            x=points,\n",
    "            y=heights,\n",
    "            mode='markers',\n",
    "            marker=dict(\n",
    "                color=color,\n",
    "                size=marker_size\n",
    "            )\n",
    "        )\n",
    "    ]\n",
    "\n",
    "    layout = go.Layout(\n",
    "    shapes=[dict(\n",
    "            type='line',\n",
    "            xref='x',\n",
    "            yref='y',\n",
    "            y0=i,\n",
    "            x0=0,\n",
    "            y1=i,\n",
    "            x1=offset_signal(points[i], marker_offset),\n",
    "            line=dict(\n",
    "                color=color,\n",
    "                width=1.5\n",
    "            )\n",
    "        ) for i in range(len(points))],\n",
    "    )\n",
    "\n",
    "    fig = go.Figure(data, layout)\n",
    "\n",
    "    for idx in range(len(fig.data)):\n",
    "        fig.data[idx].y = df_param['cond'].to_list()\n",
    "\n",
    "    fig.add_vline(x=0, line_width=3, line_color=\"maroon\")\n",
    "    \n",
    "    return fig"
   ],
   "outputs": [],
   "execution_count": null
  },
  {
   "cell_type": "code",
   "metadata": {
    "collapsed": false,
    "jupyter": {
     "outputs_hidden": false
    }
   },
   "source": [
    "df_param = [\n",
    "    # x HS\n",
    "    ['HS', (reporting['coefs'].loc[['x_probs']]).sum()],\n",
    "    \n",
    "    # x AHS\n",
    "    ['AHS', (\n",
    "        reporting['coefs'].loc[['x_probs', 'x_target','x_probs:x_target']] #* (reporting['p'].loc[['x_probs', 'x_target','x_probs:x_target']] < .01)\n",
    "    ).sum()],\n",
    "    \n",
    "    # x AHS post-october 7th\n",
    "    ['AHS after Oct. 7, 2023', (\n",
    "        reporting['coefs'].loc[['x_probs', 'x_target', 'x_probs:x_target','after_october_7', 'after_october_7:x_target', 'after_october_7:x_probs', 'after_october_7:x_probs:x_target']] #* (reporting['p'].loc[['x_probs', 'x_target', 'x_probs:x_target','after_october_7', 'after_october_7:x_target', 'after_october_7:x_probs', 'after_october_7:x_probs:x_target']] < .01)\n",
    "    ).sum()],\n",
    "    \n",
    "    # # Y HS\n",
    "    # ['Y HS', (reporting['coefs'].loc[['y_probs']]).sum()],\n",
    "    # \n",
    "    # # Y AHS\n",
    "    # ['Y AHS', (\n",
    "    #     reporting['coefs'].loc[[ 'y_probs', 'y_target', 'y_probs:y_target']] #* (reporting['p'].loc[[ 'y_probs', 'y_target', 'y_probs:y_target']] < .01)\n",
    "    # ).sum()],\n",
    "    # \n",
    "    # # Y AHS post-october 7th\n",
    "    # ['Y AHS after Oct. 7, 2023', (\n",
    "    #     reporting['coefs'].loc[['y_probs', 'y_target', 'y_probs:y_target','after_october_7', 'after_october_7:y_target', 'after_october_7:y_probs','after_october_7:y_probs:y_target',]] #* (reporting['p'].loc[['y_probs', 'y_target', 'y_probs:y_target','after_october_7', 'after_october_7:y_target', 'after_october_7:y_probs','after_october_7:y_probs:y_target',]] <.01)\n",
    "    # ).sum()], \n",
    "][::-1]\n",
    "\n",
    "df_param = pd.DataFrame(\n",
    "    np.array(df_param, dtype=object),\n",
    "    columns=['cond', '$Delta$ H']\n",
    ")"
   ],
   "outputs": [],
   "execution_count": null
  },
  {
   "cell_type": "code",
   "metadata": {
    "collapsed": false,
    "jupyter": {
     "outputs_hidden": false
    }
   },
   "source": [
    "# lollipop_chart(\n",
    "#     df=df_param,\n",
    "#     label_col='cond',\n",
    "#     length_col='$Delta$ H',\n",
    "#     save_path=lollipop_vis_name,\n",
    "#     aspect=1/3,\n",
    "#     plot_title=''\n",
    "# )"
   ],
   "outputs": [],
   "execution_count": null
  },
  {
   "cell_type": "code",
   "metadata": {},
   "source": [
    "fig = plotly_lollipop(\n",
    "    df=df_param,\n",
    "    label_col='cond',\n",
    "    length_col='$Delta$ H',\n",
    "    marker_size=10\n",
    ")\n",
    "\n",
    "fig.show()"
   ],
   "outputs": [],
   "execution_count": null
  },
  {
   "cell_type": "code",
   "metadata": {},
   "source": [
    "fig.write_html('ahs-parent.html')"
   ],
   "outputs": [],
   "execution_count": null
  },
  {
   "cell_type": "code",
   "metadata": {},
   "source": [],
   "outputs": [],
   "execution_count": null
  }
 ],
 "metadata": {
  "kernelspec": {
   "display_name": "Python 3 (ipykernel)",
   "language": "python",
   "name": "python3"
  },
  "language_info": {
   "codemirror_mode": {
    "name": "ipython",
    "version": 3
   },
   "file_extension": ".py",
   "mimetype": "text/x-python",
   "name": "python",
   "nbconvert_exporter": "python",
   "pygments_lexer": "ipython3",
   "version": "3.9.0"
  }
 },
 "nbformat": 4,
 "nbformat_minor": 4
}
