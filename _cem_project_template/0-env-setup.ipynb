{
 "cells": [
  {
   "metadata": {},
   "cell_type": "markdown",
   "source": "# Quick environment setup for replication",
   "id": "1cc5dca14328ed53"
  },
  {
   "metadata": {},
   "cell_type": "markdown",
   "source": "## Folder set-up",
   "id": "6459b9781ee08cce"
  },
  {
   "metadata": {},
   "cell_type": "code",
   "source": [
    "import os\n",
    "\n",
    "os.mkdir('data')\n",
    "os.mkdir('data/raw')\n",
    "os.mkdir('data/results')"
   ],
   "id": "a168daccbe9ff431",
   "outputs": [],
   "execution_count": null
  },
  {
   "metadata": {},
   "cell_type": "markdown",
   "source": "## Required Python packages",
   "id": "d35b0a800af9cf1c"
  },
  {
   "metadata": {},
   "cell_type": "markdown",
   "source": "Common python installations",
   "id": "b4e4a0d5dabed027"
  },
  {
   "metadata": {},
   "cell_type": "code",
   "source": [
    "!pip3 install -U pandas\n",
    "!pip3 install -U numpy\n",
    "!pip3 install -U nltk"
   ],
   "id": "965e3fa811eb090b",
   "outputs": [],
   "execution_count": null
  },
  {
   "metadata": {},
   "cell_type": "markdown",
   "source": "Visualizations",
   "id": "9f0a90faf4eb4c0a"
  },
  {
   "metadata": {},
   "cell_type": "code",
   "source": [
    "!pip3 install -U plotly\n",
    "!pip3 install -U seaborn\n",
    "!pip3 install -U matplotlib"
   ],
   "id": "54278b5170ef79a9",
   "outputs": [],
   "execution_count": null
  },
  {
   "metadata": {},
   "cell_type": "markdown",
   "source": "Classic \"ML\" frameworks\n",
   "id": "c313a5f9bc3071ca"
  },
  {
   "metadata": {},
   "cell_type": "code",
   "source": [
    "!pip3 install -U scikit-learn\n",
    "!pip3 install -U scipy"
   ],
   "id": "ec5a55ffb9f181f3",
   "outputs": [],
   "execution_count": null
  },
  {
   "metadata": {},
   "cell_type": "markdown",
   "source": "GPU enabled development and main packages",
   "id": "62751f19a54bd468"
  },
  {
   "metadata": {},
   "cell_type": "code",
   "source": [
    "!pip3 install -U torch\n",
    "!pip3 install -U transformers\n",
    "!pip3 install -U datasets"
   ],
   "id": "a595e7722778c672",
   "outputs": [],
   "execution_count": null
  },
  {
   "metadata": {},
   "cell_type": "markdown",
   "source": "CEDA package (implementation of the entropy calculations)",
   "id": "58d1e40fe736804c"
  },
  {
   "metadata": {},
   "cell_type": "code",
   "source": "!pip3 install -U convergence-entropy-metric",
   "id": "693e97c908d0d00f",
   "outputs": [],
   "execution_count": null
  }
 ],
 "metadata": {
  "kernelspec": {
   "display_name": "Python 3",
   "language": "python",
   "name": "python3"
  },
  "language_info": {
   "codemirror_mode": {
    "name": "ipython",
    "version": 2
   },
   "file_extension": ".py",
   "mimetype": "text/x-python",
   "name": "python",
   "nbconvert_exporter": "python",
   "pygments_lexer": "ipython2",
   "version": "2.7.6"
  }
 },
 "nbformat": 4,
 "nbformat_minor": 5
}
