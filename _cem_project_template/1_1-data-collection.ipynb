{
 "cells": [
  {
   "metadata": {},
   "cell_type": "markdown",
   "source": "# Collecting data for our diachronics project from Reddit",
   "id": "7c15db367a89279d"
  },
  {
   "metadata": {},
   "cell_type": "code",
   "source": [
    "import os\n",
    "import re\n",
    "from tqdm import tqdm\n",
    "import numpy as np\n",
    "import pandas as pd\n",
    "\n",
    "RAW_DATA_LOCATION = 'data/raw/corpus.csv'"
   ],
   "id": "622fe0188d52eefe",
   "outputs": [],
   "execution_count": null
  },
  {
   "metadata": {},
   "cell_type": "markdown",
   "source": "## Reddit Bot",
   "id": "a84c61e00b7dfc74"
  },
  {
   "metadata": {},
   "cell_type": "code",
   "source": "from webscrapers.reddit.reddit_bot import RedditBuddy",
   "id": "fc944cf0caf313d4",
   "outputs": [],
   "execution_count": null
  },
  {
   "metadata": {},
   "cell_type": "code",
   "source": "bot = RedditBuddy()",
   "id": "c7f05b70e50be52",
   "outputs": [],
   "execution_count": null
  },
  {
   "metadata": {},
   "cell_type": "code",
   "source": [
    "bot.submission_limit = 500\n",
    "data = [\n",
    "    bot.search(\n",
    "        subreddit='feminism', \n",
    "        searches=['abortion']\n",
    "    ),\n",
    "    bot.search(\n",
    "        subreddit='feminism', \n",
    "        searches=['pro-life']\n",
    "    ),\n",
    "    bot.search(\n",
    "        subreddit='feminism', \n",
    "        searches=['prolife']\n",
    "    ),\n",
    "    bot.search(\n",
    "        subreddit='feminism', \n",
    "        searches=['pro life','forced birth','forced-birth']\n",
    "    ),\n",
    "    bot.search(\n",
    "        subreddit='feminism', \n",
    "        searches=['forced birth']\n",
    "    ),\n",
    "    bot.search(\n",
    "        subreddit='feminism', \n",
    "        searches=['forced-birth']\n",
    "    ),\n",
    "    bot.search(\n",
    "        subreddit='feminism', \n",
    "        searches=['force birth']\n",
    "    ),\n",
    "]"
   ],
   "id": "531721596dac2d7",
   "outputs": [],
   "execution_count": null
  },
  {
   "metadata": {},
   "cell_type": "code",
   "source": [
    "data = pd.concat(data, ignore_index=True)\n",
    "print(data.shape)\n",
    "data = data.drop_duplicates()\n",
    "print(data.shape)"
   ],
   "id": "a9d7a330b5e21446",
   "outputs": [],
   "execution_count": null
  },
  {
   "metadata": {},
   "cell_type": "code",
   "source": "data.to_csv(RAW_DATA_LOCATION, index=False, encoding='utf-8')",
   "id": "79c5433f685a3786",
   "outputs": [],
   "execution_count": null
  },
  {
   "metadata": {},
   "cell_type": "markdown",
   "source": "## Data Preprocessing",
   "id": "6c98d69ff8240e5b"
  },
  {
   "metadata": {},
   "cell_type": "code",
   "source": "data = pd.read_csv(RAW_DATA_LOCATION)",
   "id": "cb31c9c243f7ef7e",
   "outputs": [],
   "execution_count": null
  },
  {
   "metadata": {},
   "cell_type": "code",
   "source": "data['body'].loc[data['parent_id'].isin(['ROOT'])] = data['submission_title'].loc[data['parent_id'].isin(['ROOT'])]",
   "id": "47e9e6d388038bf7",
   "outputs": [],
   "execution_count": null
  },
  {
   "metadata": {},
   "cell_type": "code",
   "source": "data['body'] = data['body'].apply(lambda x: re.sub(r'<br>', ' ', str(x)).strip())",
   "id": "aa7ccb7d3ed93916",
   "outputs": [],
   "execution_count": null
  },
  {
   "metadata": {},
   "cell_type": "code",
   "source": "data['tag'] = data['body'].apply(lambda x: '|'.join(list(set(re.findall(r'(pro-life|prolife\\s|pro life|forced birth|forced-birth|forcedbirth|force birth)', str(x).lower())))))",
   "id": "b299661211d106f6",
   "outputs": [],
   "execution_count": null
  },
  {
   "metadata": {},
   "cell_type": "code",
   "source": [
    "def replace_values(x):\n",
    "    x_ = re.sub(r'(pro-life|prolife\\s|pro life)', 'pro_life', x)\n",
    "    x_ = re.sub(r'(forced birth|forced-birth|forcedbirth|force birth)', 'forced_birth', x_)\n",
    "    x_ = '|'.join(set(x_.split('|')))\n",
    "    return x_\n",
    "\n",
    "data['tag'] = data['tag'].apply(lambda x: replace_values(str(x)))"
   ],
   "id": "5d89c86a054d044c",
   "outputs": [],
   "execution_count": null
  },
  {
   "metadata": {},
   "cell_type": "code",
   "source": "data['tag'].value_counts()",
   "id": "cb3830ea05838ce2",
   "outputs": [],
   "execution_count": null
  },
  {
   "metadata": {},
   "cell_type": "code",
   "source": [
    "data['tag'].loc[data['tag'].isin([\"nan\"])] = None\n",
    "data.to_csv(RAW_DATA_LOCATION, index=False, encoding='utf-8')"
   ],
   "id": "f8bee73f1f3995c4",
   "outputs": [],
   "execution_count": null
  },
  {
   "metadata": {},
   "cell_type": "markdown",
   "source": "## Smaller, targeted context corpus",
   "id": "aa4b67dcc088b6d7"
  },
  {
   "metadata": {},
   "cell_type": "code",
   "source": "data = pd.read_csv(RAW_DATA_LOCATION)",
   "id": "89ac10c5fe7bd577",
   "outputs": [],
   "execution_count": null
  },
  {
   "metadata": {},
   "cell_type": "code",
   "source": [
    "# get all tagged item IDs and their parents\n",
    "parent_ids = data['parent_id'].loc[~data['tag'].isna()].unique().tolist()\n",
    "parents = [pid.split('_')[-1] for pid in parent_ids]\n",
    "\n",
    "subcorpus1 = data.loc[\n",
    "    data['parent_id'].isin(parent_ids) | data['comment_id'].isin(parents)\n",
    "].copy()"
   ],
   "id": "7cf3ddab5f7d8a14",
   "outputs": [],
   "execution_count": null
  },
  {
   "metadata": {},
   "cell_type": "code",
   "source": "subcorpus1.head()",
   "id": "e9a35c184704ed4b",
   "outputs": [],
   "execution_count": null
  },
  {
   "metadata": {},
   "cell_type": "code",
   "source": [
    "# get all children . . .\n",
    "data['parent_id_'] = data['parent_id'].apply(lambda x: x.split('_')[-1])\n",
    "subcorpus2 = data.loc[data['parent_id_'].isin(data['comment_id'].loc[~data['tag'].isna()].unique())].copy()\n",
    "del subcorpus2['parent_id_']"
   ],
   "id": "a3c16e714f6cc1e0",
   "outputs": [],
   "execution_count": null
  },
  {
   "metadata": {},
   "cell_type": "code",
   "source": "subcorpus2.head()",
   "id": "b6407308c77b2521",
   "outputs": [],
   "execution_count": null
  },
  {
   "metadata": {},
   "cell_type": "code",
   "source": [
    "subcorpus = pd.concat([subcorpus1,subcorpus2], ignore_index=True)\n",
    "subcorpus = subcorpus.drop_duplicates()"
   ],
   "id": "b6b3090991d554c6",
   "outputs": [],
   "execution_count": null
  },
  {
   "metadata": {},
   "cell_type": "code",
   "source": "subcorpus['tag'].value_counts()",
   "id": "78e60dca3e187709",
   "outputs": [],
   "execution_count": null
  },
  {
   "metadata": {},
   "cell_type": "code",
   "source": "subcorpus.to_csv(RAW_DATA_LOCATION.replace('.csv', '-localcontext.csv'), index=False, encoding='utf-8')",
   "id": "b4f493a2aab5df6f",
   "outputs": [],
   "execution_count": null
  },
  {
   "metadata": {},
   "cell_type": "code",
   "source": "subcorpus.shape",
   "id": "af44783e8730a7e0",
   "outputs": [],
   "execution_count": null
  },
  {
   "metadata": {},
   "cell_type": "markdown",
   "source": "## Some quick post-hoc analyses",
   "id": "4924f2dbd60f8b88"
  },
  {
   "metadata": {},
   "cell_type": "code",
   "source": [
    "data = pd.read_csv(RAW_DATA_LOCATION)\n",
    "data = data.loc[~data['body'].isin(['[deleted]', '[removed]'])]"
   ],
   "id": "5837e88ba5c280b2",
   "outputs": [],
   "execution_count": null
  },
  {
   "metadata": {},
   "cell_type": "code",
   "source": "data['parent_id'].unique()",
   "id": "35aee915afc9e8ee",
   "outputs": [],
   "execution_count": null
  },
  {
   "metadata": {},
   "cell_type": "code",
   "source": "data['comment_created_at'] = pd.to_datetime(data['comment_created_at'], unit='s')",
   "id": "295f41d410ccb2d3",
   "outputs": [],
   "execution_count": null
  },
  {
   "metadata": {},
   "cell_type": "code",
   "source": "data['comment_created_at'].min(), data['comment_created_at'].max()",
   "id": "e7e4dc5b3aeb3bcd",
   "outputs": [],
   "execution_count": null
  },
  {
   "metadata": {},
   "cell_type": "code",
   "source": "data['tag'].value_counts()",
   "id": "d4892f996bf1557f",
   "outputs": [],
   "execution_count": null
  },
  {
   "metadata": {},
   "cell_type": "code",
   "source": [
    "data['after_dobbs'] = (data['comment_created_at'] > pd.to_datetime('2022-06-24'))\n",
    "data[['tag', 'after_dobbs']].value_counts(sort=False)"
   ],
   "id": "c8d6698b94e03e69",
   "outputs": [],
   "execution_count": null
  },
  {
   "metadata": {},
   "cell_type": "code",
   "source": "data['after_dobbs'].value_counts()",
   "id": "8fc4f3f4a10d54a8",
   "outputs": [],
   "execution_count": null
  },
  {
   "metadata": {},
   "cell_type": "code",
   "source": [
    "xi_data = [\n",
    "    {\n",
    "        'term': str(term), \n",
    "        'pre-Dobbs': (data['tag'].isin([term]) & (~data['after_dobbs'])).sum(),\n",
    "        'post-Dobbs': (data['tag'].isin([term]) & data['after_dobbs']).sum()\n",
    "    } for term in data['tag'].unique()\n",
    "]\n",
    "xi_data = pd.DataFrame(xi_data)\n",
    "xi_data.head(10)"
   ],
   "id": "f2d80f25025a4de6",
   "outputs": [],
   "execution_count": null
  },
  {
   "metadata": {},
   "cell_type": "code",
   "source": [
    "from scipy.stats import chi2_contingency \n",
    "res = chi2_contingency(xi_data[['pre-Dobbs', 'post-Dobbs']].loc[~xi_data['term'].isin(['pro_life|forced_birth', 'forced_birth|pro_life'])].values)\n",
    "res.dof, res.statistic, res.pvalue"
   ],
   "id": "5fbd6c2b46e1bac9",
   "outputs": [],
   "execution_count": null
  },
  {
   "metadata": {},
   "cell_type": "code",
   "source": "res.expected_freq / res.expected_freq.sum(axis=0).reshape(1,-1)",
   "id": "58be70f16967fe69",
   "outputs": [],
   "execution_count": null
  },
  {
   "metadata": {},
   "cell_type": "code",
   "source": [
    "xi__ = xi_data.loc[~xi_data['term'].isin(['pro_life|forced_birth', 'forced_birth|pro_life'])].copy()\n",
    "xi__[['pre-Dobbs', 'post-Dobbs']] = xi__[['pre-Dobbs', 'post-Dobbs']] / xi__[['pre-Dobbs', 'post-Dobbs']].values.sum(axis=0).reshape(1,-1)\n",
    "xi__['pre/post'] = xi__['pre-Dobbs'] / xi__['post-Dobbs']\n",
    "xi__.head()"
   ],
   "id": "5161d3e58ce878d8",
   "outputs": [],
   "execution_count": null
  },
  {
   "metadata": {},
   "cell_type": "code",
   "source": "",
   "id": "9b761d684ffea95c",
   "outputs": [],
   "execution_count": null
  }
 ],
 "metadata": {
  "kernelspec": {
   "display_name": "Python 3",
   "language": "python",
   "name": "python3"
  },
  "language_info": {
   "codemirror_mode": {
    "name": "ipython",
    "version": 2
   },
   "file_extension": ".py",
   "mimetype": "text/x-python",
   "name": "python",
   "nbconvert_exporter": "python",
   "pygments_lexer": "ipython2",
   "version": "2.7.6"
  }
 },
 "nbformat": 4,
 "nbformat_minor": 5
}
