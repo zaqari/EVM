{
 "cells": [
  {
   "cell_type": "markdown",
   "id": "63c6f26b4ad57447",
   "metadata": {},
   "source": [
    "# Merging Checkpoints"
   ]
  },
  {
   "cell_type": "markdown",
   "id": "fb79c26abc66a74e",
   "metadata": {},
   "source": [
    "As you can see from the scripts included in this project, we ended up batching the comparisons between our keyword utterances ($k \\in K$) and our context utterances ($c \\in C$). Partially, this was to decrease the noise in the office where the tower is stored while running our tests.\n",
    "\n",
    "The following scripts are designed to stitch those pieces back together again, largely using the CEDA object/framework to do so."
   ]
  },
  {
   "cell_type": "code",
   "id": "d0956efba2d9a14b",
   "metadata": {},
   "source": [
    "from CEDA import ceda_model\n",
    "from tqdm import tqdm\n",
    "import pandas as pd\n",
    "import numpy as np\n",
    "import json\n",
    "import os"
   ],
   "outputs": [],
   "execution_count": null
  },
  {
   "cell_type": "code",
   "id": "22b58f0c8f1c1b91",
   "metadata": {},
   "source": [
    "CKPT_PATH = 'data/ckpts'\n",
    "RAW_PATH = 'data/raw'\n",
    "OUT_PATH = 'data/results'\n",
    "OUT_NAME = 'ceda-results.csv'"
   ],
   "outputs": [],
   "execution_count": null
  },
  {
   "cell_type": "code",
   "id": "15eedd03133b6e92",
   "metadata": {},
   "source": [
    "df = []"
   ],
   "outputs": [],
   "execution_count": null
  },
  {
   "cell_type": "code",
   "id": "3bfa56f293eeab79",
   "metadata": {},
   "source": [
    "mod = ceda_model()\n",
    "\n",
    "files = [os.path.join(CKPT_PATH, f) for f in os.listdir(CKPT_PATH)]\n",
    "for f in tqdm(files):\n",
    "    mod.load_from_checkpoint(f)\n",
    "    df += [mod.graph_df(residualize=False)]"
   ],
   "outputs": [],
   "execution_count": null
  },
  {
   "cell_type": "code",
   "id": "7a3574b492327c1a",
   "metadata": {},
   "source": [
    "df = pd.concat(df, ignore_index=True)\n",
    "df.head()"
   ],
   "outputs": [],
   "execution_count": null
  },
  {
   "cell_type": "markdown",
   "id": "c7faad022b4dbd8a",
   "metadata": {},
   "source": [
    "Stupidly, I left out some crucial information for ascertaining whether $x$ and $y$ (i.e. $k$ and $c$) are in the same context. That missing info being the parent comments for $x$ and $y$. To get those, I'm addding in the following script."
   ]
  },
  {
   "cell_type": "code",
   "id": "1aab27c84c68787e",
   "metadata": {},
   "source": [
    "dfc = pd.read_csv(os.path.join(RAW_PATH, 'corpus-localcontext.csv'))\n",
    "dfc['parent_id_'] = [pid.split('_')[-1] for pid in tqdm(dfc['parent_id'].values)]\n",
    "\n",
    "# conversion to get parent ids from the line number\n",
    "conversion = {line_no: dfc['parent_id'].loc[line_no] for line_no in dfc.index}\n",
    "\n",
    "# conversion to get when the comment was created from parent comment ids\n",
    "#  used to get created at time for parent comments\n",
    "parent_created_at_conversion = {cid: dfc['comment_created_at'].loc[dfc['comment_id'].isin([cid])].values[0] for cid in dfc['comment_id'].unique()}\n",
    "\n",
    "# conversion to get comment ups from comment id\n",
    "comment_ups_conversion = {cid: comment_ups for cid, comment_ups in dfc[['comment_id', 'comment_ups']].values}\n",
    "\n",
    "# conversion to get all tags associated with a parent_id.\n",
    "parent_tags = {\n",
    "    pid: '|'.join(dfc['tag'].loc[dfc['parent_id_'].isin([pid]) & ~dfc['tag'].isna()])\n",
    "    for pid in dfc['parent_id_'].loc[~dfc['tag'].isna()].unique()\n",
    "}"
   ],
   "outputs": [],
   "execution_count": null
  },
  {
   "cell_type": "code",
   "id": "f10088a35fd0e3a6",
   "metadata": {},
   "source": [
    "df['x_parent_id'] = [conversion[line_no] for line_no in tqdm(df['x_line_no'].values)]"
   ],
   "outputs": [],
   "execution_count": null
  },
  {
   "cell_type": "code",
   "id": "6373d10823bd0768",
   "metadata": {},
   "source": [
    "df['y_parent_id'] = [conversion[line_no] for line_no in tqdm(df['y_line_no'].values)]"
   ],
   "outputs": [],
   "execution_count": null
  },
  {
   "metadata": {},
   "cell_type": "code",
   "source": "df['x_comment_ups'] = [comment_ups_conversion[cid] for cid in tqdm(df['x_comment_id'].values)]",
   "id": "b12f548f13bf58bb",
   "outputs": [],
   "execution_count": null
  },
  {
   "metadata": {},
   "cell_type": "code",
   "source": "df['y_comment_ups'] = [comment_ups_conversion[cid] for cid in tqdm(df['y_comment_id'].values)]",
   "id": "bf8c22be70db1897",
   "outputs": [],
   "execution_count": null
  },
  {
   "metadata": {},
   "cell_type": "markdown",
   "source": "I also want to create a context label, alongside of selecting a context beginning timestamp.",
   "id": "dd694e2ad90245be"
  },
  {
   "metadata": {},
   "cell_type": "code",
   "source": [
    "df['x_parent_id_'] = [pid.split('_')[-1] for pid in tqdm(df['x_parent_id'].values)]\n",
    "df['y_parent_id_'] = [pid.split('_')[-1] for pid in tqdm(df['y_parent_id'].values)]\n",
    "\n",
    "df['x_parent_id_'].loc[df['x_parent_id_'].isin(['ROOT'])] = df['x_comment_id'].loc[df['x_parent_id_'].isin(['ROOT'])]\n",
    "df['y_parent_id_'].loc[df['y_parent_id_'].isin(['ROOT'])] = df['y_comment_id'].loc[df['y_parent_id_'].isin(['ROOT'])]\n",
    "\n",
    "df['x_context_id'] = df['x_parent_id_'].values\n",
    "df['y_context_id'] = None\n",
    "df['same_context'] = False"
   ],
   "id": "3843986a00a49f8d",
   "outputs": [],
   "execution_count": null
  },
  {
   "metadata": {},
   "cell_type": "code",
   "source": [
    "# get children and label context\n",
    "sel = df['x_comment_id'] == df['y_parent_id_']\n",
    "df['cc_is_child'] = sel\n",
    "df['y_context_id'].loc[sel] = df['x_context_id'].loc[sel]\n",
    "# df['y_tag'].loc[sel] = df['x_tag'].loc[sel]\n",
    "df['same_context'].loc[sel] = True"
   ],
   "id": "369c27a5034d9788",
   "outputs": [],
   "execution_count": null
  },
  {
   "metadata": {},
   "cell_type": "code",
   "source": [
    "# get siblings and label context\n",
    "sel = df['x_parent_id'] == df['y_parent_id']\n",
    "df['cc_is_sibling'] = sel\n",
    "df['y_context_id'].loc[sel] = df['x_context_id'].loc[sel]\n",
    "# df['y_tag'].loc[sel] = df['x_tag'].loc[sel]\n",
    "df['same_context'].loc[sel] = True"
   ],
   "id": "4ebd7e4b67e3b11b",
   "outputs": [],
   "execution_count": null
  },
  {
   "metadata": {},
   "cell_type": "code",
   "source": [
    "# get parents and label context\n",
    "sel = df['y_comment_id'] == df['x_parent_id_']\n",
    "df['cc_is_parent'] = sel\n",
    "df['y_context_id'].loc[sel] = df['x_context_id'].loc[sel]\n",
    "# df['y_tag'].loc[sel] = df['x_tag'].loc[sel]\n",
    "df['same_context'].loc[sel] = True"
   ],
   "id": "f945ec0c5558e426",
   "outputs": [],
   "execution_count": null
  },
  {
   "metadata": {},
   "cell_type": "code",
   "source": [
    "# df['x_context_time'] = [parent_created_at_conversion[cid] \n",
    "#                         if cid in parent_created_at_conversion.keys() else None \n",
    "#                         for cid in tqdm(df['x_context_id'].values)\n",
    "#                         ] #df['x_context_id'].replace(parent_created_at_conversion)\n",
    "# \n",
    "# df['y_context_time'] = [parent_created_at_conversion[cid] \n",
    "#                         if cid in parent_created_at_conversion.keys() else None \n",
    "#                         for cid in tqdm(df['y_context_id'].values)\n",
    "#                         ] #df['x_context_id'].replace(parent_created_at_conversion)"
   ],
   "id": "fa5519831c9f16d2",
   "outputs": [],
   "execution_count": null
  },
  {
   "metadata": {},
   "cell_type": "code",
   "source": "# df['y_context_id'].loc[(~df['y_context_id'].isna() & df['y_context_time'].isna())].value_counts()",
   "id": "efec51e0d5835824",
   "outputs": [],
   "execution_count": null
  },
  {
   "metadata": {},
   "cell_type": "code",
   "source": [
    "s1 = df['y_comment_id'].loc[df['cc_is_child']].unique()\n",
    "s2 = df['y_comment_id'].loc[df['cc_is_parent'] | df['cc_is_sibling']].unique()\n",
    "\n",
    "only_as_child_comments = list(set(s1).difference(set(s2)))\n",
    "only_as_child_context_ids = {comment: df['x_parent_id_'].loc[df['y_comment_id'].isin([comment]) & df['same_context']].values[0] for comment in only_as_child_comments}"
   ],
   "id": "a4afd54f3386ecf7",
   "outputs": [],
   "execution_count": null
  },
  {
   "metadata": {},
   "cell_type": "code",
   "source": [
    "df['x_context_time'] = [parent_created_at_conversion[cid] \n",
    "                        if cid in parent_created_at_conversion.keys() else None \n",
    "                        for cid in tqdm(df['x_context_id'].values)\n",
    "                        ] #df['x_context_id'].replace(parent_created_at_conversion)\n",
    "\n",
    "df['y_context_time'] = [parent_created_at_conversion[cid] \n",
    "                        if cid in parent_created_at_conversion.keys() else None \n",
    "                        for cid in tqdm(df['y_context_id'].values)\n",
    "                        ] #df['x_context_id'].replace(parent_created_at_conversion)"
   ],
   "id": "1754db84a3feb49a",
   "outputs": [],
   "execution_count": null
  },
  {
   "metadata": {},
   "cell_type": "code",
   "source": [
    "sel = df['y_comment_id'].isin(only_as_child_comments)\n",
    "\n",
    "all_other_y_contexts = dict()\n",
    "for comment in df['y_comment_id'].loc[df['same_context'] & ~sel].unique():\n",
    "    responses = df[['y_context_id', 'y_context_time']].loc[df['y_comment_id'].isin([comment]) & df['same_context']].values\n",
    "    all_other_y_contexts[comment] = responses[:,0][responses[:,1].argmin()]\n",
    "\n",
    "df['y_context_id'].loc[~sel & (~df['same_context'])] = [all_other_y_contexts[comment] for comment in tqdm(df['y_comment_id'].loc[~sel & (~df['same_context'])].values)]\n",
    "\n",
    "df['y_context_id'].loc[sel] = [only_as_child_context_ids[comment] for comment in tqdm(df['y_comment_id'].loc[sel].values)]"
   ],
   "id": "78f56062e4829a88",
   "outputs": [],
   "execution_count": null
  },
  {
   "metadata": {},
   "cell_type": "code",
   "source": [
    "# sel = df.loc[df['same_context']]\n",
    "# context_conversion = {yid: sel[['y_context_id', 'y_context_time', 'x_tag']].loc[sel['y_parent_id_'].isin([yid])].values for yid in sel['y_parent_id_'].unique()}"
   ],
   "id": "109530ef5d9e13c3",
   "outputs": [],
   "execution_count": null
  },
  {
   "metadata": {},
   "cell_type": "code",
   "source": [
    "# # comparisons across contexts\n",
    "# sel = ~df['y_context_id'].isna()\n",
    "# for cid in tqdm(df['y_comment_id'].loc[sel].unique()):\n",
    "#     sub = df.loc[sel & df['y_comment_id'].isin([cid])]\n",
    "#     min_ = sub['y_context_time'].min()\n",
    "#     earliest_head = sub['y_context_id'].loc[sub['y_context_time']==min_].values\n",
    "#     df['y_context_id'].loc[~sel & df['y_comment_id'].isin([cid])] = earliest_head[0]"
   ],
   "id": "ae50c1543b8d1cf7",
   "outputs": [],
   "execution_count": null
  },
  {
   "metadata": {},
   "cell_type": "code",
   "source": "df['y_context_id'].isin(df['x_context_id'].unique()).mean()",
   "id": "7b46fb1dbd66ed20",
   "outputs": [],
   "execution_count": null
  },
  {
   "metadata": {},
   "cell_type": "code",
   "source": [
    "# everything else:\n",
    "sel = df['y_context_id'].isna()\n",
    "print(sel.sum())\n",
    "# df['y_context_id'].loc[sel] = df['y_parent_id_'].loc[sel]"
   ],
   "id": "62cfc77e854579bf",
   "outputs": [],
   "execution_count": null
  },
  {
   "metadata": {},
   "cell_type": "code",
   "source": [
    "df['x_context_time'] = [parent_created_at_conversion[cid] \n",
    "                        if cid in parent_created_at_conversion.keys() else None \n",
    "                        for cid in tqdm(df['x_context_id'].values)\n",
    "                        ] #df['x_context_id'].replace(parent_created_at_conversion)\n",
    "\n",
    "df['y_context_time'] = [parent_created_at_conversion[cid] \n",
    "                        if cid in parent_created_at_conversion.keys() else None \n",
    "                        for cid in tqdm(df['y_context_id'].values)\n",
    "                        ] #df['x_context_id'].replace(parent_created_at_conversion)"
   ],
   "id": "2dea810affb84d13",
   "outputs": [],
   "execution_count": null
  },
  {
   "metadata": {},
   "cell_type": "markdown",
   "source": "Adding the context time for all the y_contexts, one last time . . . ",
   "id": "9887d9bad76df2a6"
  },
  {
   "metadata": {},
   "cell_type": "code",
   "source": [
    "# sel = df['y_context_time'].isna()\n",
    "# df['y_context_time'].loc[sel] = [parent_created_at_conversion[cid] \n",
    "#                         if cid in parent_created_at_conversion.keys() else None \n",
    "#                         for cid in tqdm(df['y_context_id'].loc[sel].values)\n",
    "#                         ] #df['x_context_id'].replace(parent_created_at_conversion)"
   ],
   "id": "8301a2d0a888f690",
   "outputs": [],
   "execution_count": null
  },
  {
   "metadata": {},
   "cell_type": "code",
   "source": [
    "possible_y_tags = {\n",
    "    xcid: '|'.join(df['x_tag'].loc[df['x_context_id'].isin([xcid])].unique())\n",
    "    for xcid in df['x_context_id'].unique()\n",
    "}\n",
    "\n",
    "df['y_tag'] = [\n",
    "    possible_y_tags[ycid] if ycid in possible_y_tags.keys() \n",
    "    else None \n",
    "    for ycid in tqdm(df['y_context_id'].values)\n",
    "]"
   ],
   "id": "eb6147a106edf730",
   "outputs": [],
   "execution_count": null
  },
  {
   "metadata": {},
   "cell_type": "markdown",
   "source": "And some last checks.",
   "id": "f0e1d110f6b73aa2"
  },
  {
   "metadata": {},
   "cell_type": "code",
   "source": "df.isna().sum()",
   "id": "b82c52f2db4e7dd8",
   "outputs": [],
   "execution_count": null
  },
  {
   "metadata": {},
   "cell_type": "code",
   "source": "df['same_context'].loc[df['y_tag'].isna()].value_counts()",
   "id": "8884b43e22508306",
   "outputs": [],
   "execution_count": null
  },
  {
   "cell_type": "markdown",
   "id": "db7e146bca532071",
   "metadata": {},
   "source": [
    "Just in case, I also want to note when the $x$ and $y$ authors are the same."
   ]
  },
  {
   "metadata": {},
   "cell_type": "code",
   "source": [
    "del df['x_parent_id_']\n",
    "del df['y_parent_id_']"
   ],
   "id": "80f287a52fda99e9",
   "outputs": [],
   "execution_count": null
  },
  {
   "cell_type": "code",
   "id": "e33b18b82b992e6f",
   "metadata": {},
   "source": [
    "df['same_author'] = df['x_user'] == df['y_user']"
   ],
   "outputs": [],
   "execution_count": null
  },
  {
   "metadata": {},
   "cell_type": "code",
   "source": "df['same_author'].value_counts()",
   "id": "831f80a7290334e0",
   "outputs": [],
   "execution_count": null
  },
  {
   "cell_type": "markdown",
   "id": "a8f33437a0328b29",
   "metadata": {},
   "source": [
    "Let's also take a moment now and anonymize some of the data (and save our anonymization key locally)"
   ]
  },
  {
   "cell_type": "code",
   "id": "73dc0044a1e985f6",
   "metadata": {},
   "source": [
    "anonymize_columns = [['x_user', 'y_user'], ['x_comment_id', 'y_comment_id'], ['x_submission_id', 'y_submission_id']]\n",
    "for cols in anonymize_columns:\n",
    "    values = np.unique(df[cols].values)\n",
    "    values = np.random.choice(values, size=(len(values),), replace=False)\n",
    "    \n",
    "    conversion = {val:i+1 for i,val in enumerate(values)}\n",
    "    \n",
    "    # save conversion dictionary\n",
    "    f = open(\n",
    "        os.path.join(\n",
    "            OUT_PATH, \n",
    "            cols[0].replace('x_', '').replace('y_', '')+'.json'\n",
    "        ), \n",
    "        'w'\n",
    "    )\n",
    "    f.write(json.dumps(conversion,indent=4))\n",
    "    f.close()\n",
    "    \n",
    "    # anonymize the column\n",
    "    for col in cols:\n",
    "        print(col)\n",
    "        df[col] = [conversion[val] for val in tqdm(df[col].values)]"
   ],
   "outputs": [],
   "execution_count": null
  },
  {
   "cell_type": "markdown",
   "id": "90365ec1e3d989f6",
   "metadata": {},
   "source": [
    "Finishing this, let's save the data."
   ]
  },
  {
   "cell_type": "code",
   "id": "ace17b546b6890c3",
   "metadata": {},
   "source": [
    "df.to_csv(os.path.join(OUT_PATH, OUT_NAME), index=False, encoding='utf-8')"
   ],
   "outputs": [],
   "execution_count": null
  },
  {
   "metadata": {},
   "cell_type": "code",
   "source": "df.shape",
   "id": "686336084fb3e06a",
   "outputs": [],
   "execution_count": null
  },
  {
   "metadata": {},
   "cell_type": "markdown",
   "source": "",
   "id": "db121aa11950f572"
  },
  {
   "metadata": {},
   "cell_type": "code",
   "source": "df['y_tag'].value_counts()",
   "id": "34bcd222b964f591",
   "outputs": [],
   "execution_count": null
  },
  {
   "metadata": {},
   "cell_type": "code",
   "source": "",
   "id": "2d2528b4c8f669bb",
   "outputs": [],
   "execution_count": null
  }
 ],
 "metadata": {
  "kernelspec": {
   "display_name": "Python 3 (ipykernel)",
   "language": "python",
   "name": "python3"
  },
  "language_info": {
   "codemirror_mode": {
    "name": "ipython",
    "version": 3
   },
   "file_extension": ".py",
   "mimetype": "text/x-python",
   "name": "python",
   "nbconvert_exporter": "python",
   "pygments_lexer": "ipython3",
   "version": "3.12.4"
  }
 },
 "nbformat": 4,
 "nbformat_minor": 5
}
