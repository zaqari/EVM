{
 "nbformat": 4,
 "nbformat_minor": 0,
 "metadata": {
  "colab": {
   "provenance": [],
   "collapsed_sections": [
    "Y87sVxZ5HlNP"
   ]
  },
  "kernelspec": {
   "name": "python3",
   "display_name": "Python 3"
  },
  "language_info": {
   "name": "python"
  }
 },
 "cells": [
  {
   "cell_type": "markdown",
   "source": [
    "#### Install Dependencies"
   ],
   "metadata": {
    "id": "Y87sVxZ5HlNP"
   }
  },
  {
   "cell_type": "code",
   "source": [
    "!sudo apt-get install jags\n",
    "!pip install pyjags"
   ],
   "metadata": {
    "id": "Ma_rM7YPHnjJ",
    "colab": {
     "base_uri": "https://localhost:8080/"
    },
    "outputId": "b0d5a54f-9a19-4f0d-a6ca-85d7da082132"
   },
   "outputs": [],
   "execution_count": null
  },
  {
   "metadata": {},
   "cell_type": "markdown",
   "source": [
    "# Bayesian Parameter Estimation for Factor Contributions\n",
    "\n",
    "The following is a simplified template for using JAGS for analyses"
   ]
  },
  {
   "metadata": {},
   "cell_type": "code",
   "source": [
    "import pandas as pd\n",
    "import numpy as np\n",
    "import pyjags\n",
    "import os"
   ],
   "outputs": [],
   "execution_count": null
  },
  {
   "metadata": {},
   "cell_type": "code",
   "source": [
    "DATA_PATH = 'content'\n",
    "INPUT_FILE = 'ceda-results.csv'"
   ],
   "outputs": [],
   "execution_count": null
  },
  {
   "cell_type": "markdown",
   "source": "### Read in data",
   "metadata": {
    "id": "Nre1FkrfHEvR"
   }
  },
  {
   "cell_type": "code",
   "metadata": {
    "id": "dSFjI45QGtSf",
    "colab": {
     "base_uri": "https://localhost:8080/",
     "height": 148
    },
    "outputId": "3391e3c9-1073-4cfc-8c22-bfc7facd26d8"
   },
   "source": "df = pd.read_csv(os.path.join(DATA_PATH,INPUT_FILE))",
   "outputs": [],
   "execution_count": null
  },
  {
   "metadata": {},
   "cell_type": "code",
   "outputs": [],
   "execution_count": null,
   "source": "# add any additional processing steps here"
  },
  {
   "metadata": {},
   "cell_type": "code",
   "outputs": [],
   "execution_count": null,
   "source": "df.head()"
  },
  {
   "cell_type": "markdown",
   "source": "## Model Definition",
   "metadata": {
    "id": "hTCPIM6yHG99"
   }
  },
  {
   "cell_type": "markdown",
   "source": [
    "### LME Model\n",
    "\n",
    "The following is an example JAGS Script. It replicates the logic inherent to LME Regression Analysis (with no interactions) in a JAGS framework."
   ],
   "metadata": {
    "id": "xAy0cKrcHQE_"
   }
  },
  {
   "metadata": {},
   "cell_type": "markdown",
   "source": "The following script is basic, and unlikely to fit all your analysis needs. You'll likely need t update it to remove and or include additional variables based on your specific hypotheses. Use it as a guideline for how to write an appropriate JAGS script."
  },
  {
   "cell_type": "code",
   "source": [
    "model = \"\"\"\n",
    "model{\n",
    "    asigma ~ dunif(.001, 100)\n",
    "    rsigma ~ dunif(.001, 100)\n",
    "    csigma ~ dunif(.001, 100)\n",
    "    nxsigma ~ dunif(.001, 100)\n",
    "    nysigma ~ dunif(.001, 100)\n",
    "    \n",
    "    intercept ~ dunif(-1000, 1000)\n",
    "    amu ~ dunif(-1000, 1000)\n",
    "    rmu ~ dunif(-1000, 1000)\n",
    "    cmu ~ dunif(-1000, 1000)\n",
    "    nxmu ~ dunif(-1000, 1000)\n",
    "    nymu ~ dunif(-1000, 1000)\n",
    "    \n",
    "    nx_beta ~ dnorm(nxmu, nxsigma)\n",
    "    ny_beta ~ dnorm(nymu, nysigma)\n",
    "    \n",
    "    likes_beta ~ dunif(-1000, 1000)\n",
    "    \n",
    "    for (a in 1:AUTHORS){\n",
    "        amu_[a] ~ dnorm(amu, asigma)\n",
    "        asigma_[a] ~ dunif(.001,100)\n",
    "        authors_beta[a] ~ dnorm(amu_[a], asigma_[a])\n",
    "    }\n",
    "    \n",
    "    for (r in 1:REPLIES){\n",
    "        rmu_[r] ~ dnorm(rmu, rsigma)\n",
    "        rsigma_[r] ~ dunif(.001,100)\n",
    "        repliers_beta[r] ~ dnorm(rmu_[r], rsigma_[r])\n",
    "    }\n",
    "    \n",
    "    for (c in 1:COMMENTS){\n",
    "        cmu_[c] ~ dnorm(cmu, csigma)\n",
    "        csigma_[c] ~ dunif(.001,100)\n",
    "        \n",
    "        comments_beta[c] ~ dnorm(cmu_[c], csigma_[c])\n",
    "        \n",
    "        gamma[c] ~ dunif(.001, 100)\n",
    "    }\n",
    "    \n",
    "    for (i in 1:ROWS){\n",
    "        mu_row[i] <- intercept + authors_beta[authors[i]] + repliers_beta[repliers[i]] + comments_beta[comments[i]] + (likes_beta * likes[i]) + (nx_beta * nx[i]) + (ny_beta * ny[i])\n",
    "        H[i] ~ dnorm(mu_row[i], TEMP)\n",
    "    }\n",
    "}\n",
    "\"\"\""
   ],
   "metadata": {
    "id": "y9TnXOngHIm8"
   },
   "outputs": [],
   "execution_count": null
  },
  {
   "metadata": {},
   "cell_type": "markdown",
   "source": [
    "**[ON ADDING INTERACTION TERMS]**\n",
    "\n",
    "Somewhat obviously, the above is completely hand crafted. That means that if one wants to add in interaction terms, there's some extra work involved. That work includes (1) creating Z-Scores for each interacting variable, and (2) taking the product of those Z-Scores. We can then (3) calculated a $\\beta$ value for the interaction of those terms."
   ]
  },
  {
   "metadata": {},
   "cell_type": "markdown",
   "source": "Make sure that you include inputs for each variable that you are feeding to the model from the data, as indicated in the script you wrote."
  },
  {
   "cell_type": "code",
   "source": [
    "data = {\n",
    "    'authors': df['authors'].values,\n",
    "    'repliers': df['repliers'].values,\n",
    "    'comments': df['comment_id'].values,\n",
    "    'likes': df['likes'].values,\n",
    "    'nx': df['nx'].values,\n",
    "    'ny': df['ny'].values,\n",
    "    \n",
    "    'H': df['Hxy'].values,\n",
    "    \n",
    "    'AUTHORS': df['authors'].nunique(),\n",
    "    'REPLIERS': df['repliers'].nunique(),\n",
    "    'COMMENTS': df['comment_id'].nunique(),\n",
    "    'LIKES': df['likes'].nunique(),\n",
    "    'TEMP': 1, # how far off from the correct value of H you are allowing the model to estimate.\n",
    "                # higher values will increase model performance, but decrease model certainty\n",
    "                # for any specific parameter values.\n",
    "    'ROWS': len(df)\n",
    "}"
   ],
   "metadata": {
    "id": "56bjp2nyHbPX"
   },
   "outputs": [],
   "execution_count": null
  },
  {
   "cell_type": "code",
   "source": [
    "n_samples = 3000\n",
    "chains = 1\n",
    "warm_up = 1000\n",
    "\n",
    "jags_model = pyjags.Model(\n",
    "    model,\n",
    "    data=data,\n",
    "    chains=chains,\n",
    "    adapt=warm_up, \n",
    "    progress_bar=True\n",
    ")\n",
    "\n",
    "samples = jags_model.sample(n_samples,vars=['intercept', 'amu', 'rmu', 'cmu', 'likes_beta'])"
   ],
   "metadata": {
    "id": "m5DlYhg2Hb8B",
    "colab": {
     "base_uri": "https://localhost:8080/"
    },
    "outputId": "1ef3091c-52ea-446c-f77f-f39000dbc414"
   },
   "outputs": [],
   "execution_count": null
  },
  {
   "metadata": {},
   "cell_type": "markdown",
   "source": "saving outputs"
  },
  {
   "metadata": {},
   "cell_type": "code",
   "outputs": [],
   "execution_count": null,
   "source": [
    "for param,vals in samples.items():\n",
    "    np.save(\n",
    "        os.path.join(DATA_PATH, param+'.npy'), \n",
    "        vals\n",
    "    )"
   ]
  }
 ]
}
