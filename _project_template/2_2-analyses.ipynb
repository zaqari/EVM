{
 "cells": [
  {
   "cell_type": "markdown",
   "metadata": {
    "collapsed": true,
    "jupyter": {
     "outputs_hidden": true
    },
    "pycharm": {
     "name": "#%% md\n"
    }
   },
   "source": "# Analyzing linguistic adaptation in terms of entropy"
  },
  {
   "cell_type": "code",
   "metadata": {
    "collapsed": false,
    "jupyter": {
     "outputs_hidden": false
    },
    "ExecuteTime": {
     "end_time": "2024-10-27T19:11:03.241946Z",
     "start_time": "2024-10-27T19:11:03.237996Z"
    }
   },
   "source": [
    "import os\n",
    "import re\n",
    "\n",
    "DATA_PATH = 'data/results'\n",
    "DATA_FILE = 'ceda-results.csv'\n",
    "\n",
    "REPORTING_PATH = 'data/reports'\n",
    "REPORT_NAME = os.path.join(REPORTING_PATH, 'report-{}.csv')\n",
    "MODEL_PERFORMANCE_NAME = os.path.join(REPORTING_PATH, 'model-comparison.csv')\n",
    "\n",
    "lollipop_vis_name = 'lollipop.png'"
   ],
   "outputs": [],
   "execution_count": 1
  },
  {
   "cell_type": "markdown",
   "metadata": {
    "collapsed": false,
    "jupyter": {
     "outputs_hidden": false
    }
   },
   "source": [
    "## Main Analyses and Results"
   ]
  },
  {
   "cell_type": "code",
   "metadata": {
    "ExecuteTime": {
     "end_time": "2024-10-27T18:39:49.032973Z",
     "start_time": "2024-10-27T18:39:22.900113Z"
    }
   },
   "source": [
    "import pandas as pd\n",
    "import numpy as np\n",
    "from tqdm import tqdm\n",
    "import statsmodels.formula.api as smf\n",
    "from datetime import datetime as dt\n",
    "\n",
    "df = pd.read_csv(os.path.join(DATA_PATH, DATA_FILE))\n",
    "# df = df.loc[\n",
    "#     (df['nx'] >= 5)\n",
    "#     & (df['ny'] >= 5)\n",
    "#     # & (df['comment_delta_abs'] <= 20)\n",
    "# ] # limit by comment size\n",
    "df.shape"
   ],
   "outputs": [
    {
     "data": {
      "text/plain": [
       "(12174954, 31)"
      ]
     },
     "execution_count": 2,
     "metadata": {},
     "output_type": "execute_result"
    }
   ],
   "execution_count": 2
  },
  {
   "metadata": {
    "ExecuteTime": {
     "end_time": "2024-10-21T02:13:05.439388Z",
     "start_time": "2024-10-21T02:13:05.297965Z"
    }
   },
   "cell_type": "code",
   "source": [
    "unix_time = True\n",
    "\n",
    "if not unix_time:\n",
    "    contexts = pd.concat([\n",
    "        df[['x_context_id', 'x_context_time']].drop_duplicates(),\n",
    "        df[['y_context_id', 'y_context_time']].drop_duplicates().copy().rename(columns={'y_context_id': 'x_context_id', 'y_context_time': 'x_context_time'}),\n",
    "    ], ignore_index=True).drop_duplicates().sort_values(by='x_context_time').values\n",
    "    \n",
    "    convert_context_times = {context: i+1 for i, context in enumerate(contexts[:,0])}\n",
    "    \n",
    "    df['x_context_time'] = [convert_context_times[context] for context in tqdm(df['x_context_id'].values)]\n",
    "    df['y_context_time'] = [convert_context_times[context] for context in tqdm(df['y_context_id'].values)]\n",
    "    \n",
    "\n",
    "# time difference in unix time\n",
    "df['time_delta'] = df['x_context_time'] - df['y_context_time']"
   ],
   "outputs": [],
   "execution_count": 3
  },
  {
   "metadata": {
    "ExecuteTime": {
     "end_time": "2024-10-21T02:17:10.637083Z",
     "start_time": "2024-10-21T02:13:05.440769Z"
    }
   },
   "cell_type": "code",
   "source": "df['tag_in_context'] = [df['x_tag'].loc[i] in df['y_tag'].loc[i] for i in tqdm(df.index)]",
   "outputs": [
    {
     "name": "stderr",
     "output_type": "stream",
     "text": [
      "100%|██████████| 12174954/12174954 [04:04<00:00, 49821.21it/s]\n"
     ]
    }
   ],
   "execution_count": 4
  },
  {
   "metadata": {
    "ExecuteTime": {
     "end_time": "2024-10-21T02:17:10.642383Z",
     "start_time": "2024-10-21T02:17:10.639015Z"
    }
   },
   "cell_type": "code",
   "source": "# df['cc_is_parent'].value_counts()",
   "outputs": [],
   "execution_count": 5
  },
  {
   "metadata": {
    "ExecuteTime": {
     "end_time": "2024-10-21T02:17:10.650930Z",
     "start_time": "2024-10-21T02:17:10.648217Z"
    }
   },
   "cell_type": "code",
   "source": "# df['cc_is_child'].value_counts()",
   "outputs": [],
   "execution_count": 6
  },
  {
   "metadata": {
    "ExecuteTime": {
     "end_time": "2024-10-21T02:17:10.654177Z",
     "start_time": "2024-10-21T02:17:10.652133Z"
    }
   },
   "cell_type": "code",
   "source": "# df['cc_is_sibling'].value_counts()",
   "outputs": [],
   "execution_count": 7
  },
  {
   "metadata": {
    "ExecuteTime": {
     "end_time": "2024-10-21T02:17:10.691553Z",
     "start_time": "2024-10-21T02:17:10.655395Z"
    }
   },
   "cell_type": "code",
   "source": "df.head()",
   "outputs": [
    {
     "data": {
      "text/plain": [
       "   x_submission_id  x_submission_created_at  x_comment_created_at  \\\n",
       "0               58             1.709004e+09          1.709073e+09   \n",
       "1               58             1.709004e+09          1.709073e+09   \n",
       "2               40             1.726492e+09          1.726493e+09   \n",
       "3               40             1.726492e+09          1.726493e+09   \n",
       "4               40             1.726492e+09          1.726496e+09   \n",
       "\n",
       "   x_comment_id  x_user                  x_tag  x_line_no  y_submission_id  \\\n",
       "0          2087    3967               pro_life          9              170   \n",
       "1          2087    3967               pro_life          9              170   \n",
       "2           498    1308               pro_life         16              170   \n",
       "3           498    1308               pro_life         16              170   \n",
       "4          2287    1604  forced_birth|pro_life         17              170   \n",
       "\n",
       "   y_submission_created_at  y_comment_created_at  ...  y_context_id  \\\n",
       "0             1.457137e+09          1.457137e+09  ...         w596h   \n",
       "1             1.457137e+09          1.457137e+09  ...         w596h   \n",
       "2             1.457137e+09          1.457137e+09  ...         w596h   \n",
       "3             1.457137e+09          1.457137e+09  ...         w596h   \n",
       "4             1.457137e+09          1.457137e+09  ...         w596h   \n",
       "\n",
       "   same_context cc_is_child  cc_is_sibling  cc_is_parent  x_context_time  \\\n",
       "0         False       False          False         False    1.709004e+09   \n",
       "1         False       False          False         False    1.709004e+09   \n",
       "2         False       False          False         False    1.726492e+09   \n",
       "3         False       False          False         False    1.726492e+09   \n",
       "4         False       False          False         False    1.726493e+09   \n",
       "\n",
       "   y_context_time  same_author   time_delta tag_in_context  \n",
       "0    1.341606e+09        False  367398347.0           True  \n",
       "1    1.341606e+09        False  367398347.0           True  \n",
       "2    1.341606e+09        False  384885844.0           True  \n",
       "3    1.341606e+09        False  384885844.0           True  \n",
       "4    1.341606e+09        False  384886739.0          False  \n",
       "\n",
       "[5 rows x 33 columns]"
      ],
      "text/html": [
       "<div>\n",
       "<style scoped>\n",
       "    .dataframe tbody tr th:only-of-type {\n",
       "        vertical-align: middle;\n",
       "    }\n",
       "\n",
       "    .dataframe tbody tr th {\n",
       "        vertical-align: top;\n",
       "    }\n",
       "\n",
       "    .dataframe thead th {\n",
       "        text-align: right;\n",
       "    }\n",
       "</style>\n",
       "<table border=\"1\" class=\"dataframe\">\n",
       "  <thead>\n",
       "    <tr style=\"text-align: right;\">\n",
       "      <th></th>\n",
       "      <th>x_submission_id</th>\n",
       "      <th>x_submission_created_at</th>\n",
       "      <th>x_comment_created_at</th>\n",
       "      <th>x_comment_id</th>\n",
       "      <th>x_user</th>\n",
       "      <th>x_tag</th>\n",
       "      <th>x_line_no</th>\n",
       "      <th>y_submission_id</th>\n",
       "      <th>y_submission_created_at</th>\n",
       "      <th>y_comment_created_at</th>\n",
       "      <th>...</th>\n",
       "      <th>y_context_id</th>\n",
       "      <th>same_context</th>\n",
       "      <th>cc_is_child</th>\n",
       "      <th>cc_is_sibling</th>\n",
       "      <th>cc_is_parent</th>\n",
       "      <th>x_context_time</th>\n",
       "      <th>y_context_time</th>\n",
       "      <th>same_author</th>\n",
       "      <th>time_delta</th>\n",
       "      <th>tag_in_context</th>\n",
       "    </tr>\n",
       "  </thead>\n",
       "  <tbody>\n",
       "    <tr>\n",
       "      <th>0</th>\n",
       "      <td>58</td>\n",
       "      <td>1.709004e+09</td>\n",
       "      <td>1.709073e+09</td>\n",
       "      <td>2087</td>\n",
       "      <td>3967</td>\n",
       "      <td>pro_life</td>\n",
       "      <td>9</td>\n",
       "      <td>170</td>\n",
       "      <td>1.457137e+09</td>\n",
       "      <td>1.457137e+09</td>\n",
       "      <td>...</td>\n",
       "      <td>w596h</td>\n",
       "      <td>False</td>\n",
       "      <td>False</td>\n",
       "      <td>False</td>\n",
       "      <td>False</td>\n",
       "      <td>1.709004e+09</td>\n",
       "      <td>1.341606e+09</td>\n",
       "      <td>False</td>\n",
       "      <td>367398347.0</td>\n",
       "      <td>True</td>\n",
       "    </tr>\n",
       "    <tr>\n",
       "      <th>1</th>\n",
       "      <td>58</td>\n",
       "      <td>1.709004e+09</td>\n",
       "      <td>1.709073e+09</td>\n",
       "      <td>2087</td>\n",
       "      <td>3967</td>\n",
       "      <td>pro_life</td>\n",
       "      <td>9</td>\n",
       "      <td>170</td>\n",
       "      <td>1.457137e+09</td>\n",
       "      <td>1.457137e+09</td>\n",
       "      <td>...</td>\n",
       "      <td>w596h</td>\n",
       "      <td>False</td>\n",
       "      <td>False</td>\n",
       "      <td>False</td>\n",
       "      <td>False</td>\n",
       "      <td>1.709004e+09</td>\n",
       "      <td>1.341606e+09</td>\n",
       "      <td>False</td>\n",
       "      <td>367398347.0</td>\n",
       "      <td>True</td>\n",
       "    </tr>\n",
       "    <tr>\n",
       "      <th>2</th>\n",
       "      <td>40</td>\n",
       "      <td>1.726492e+09</td>\n",
       "      <td>1.726493e+09</td>\n",
       "      <td>498</td>\n",
       "      <td>1308</td>\n",
       "      <td>pro_life</td>\n",
       "      <td>16</td>\n",
       "      <td>170</td>\n",
       "      <td>1.457137e+09</td>\n",
       "      <td>1.457137e+09</td>\n",
       "      <td>...</td>\n",
       "      <td>w596h</td>\n",
       "      <td>False</td>\n",
       "      <td>False</td>\n",
       "      <td>False</td>\n",
       "      <td>False</td>\n",
       "      <td>1.726492e+09</td>\n",
       "      <td>1.341606e+09</td>\n",
       "      <td>False</td>\n",
       "      <td>384885844.0</td>\n",
       "      <td>True</td>\n",
       "    </tr>\n",
       "    <tr>\n",
       "      <th>3</th>\n",
       "      <td>40</td>\n",
       "      <td>1.726492e+09</td>\n",
       "      <td>1.726493e+09</td>\n",
       "      <td>498</td>\n",
       "      <td>1308</td>\n",
       "      <td>pro_life</td>\n",
       "      <td>16</td>\n",
       "      <td>170</td>\n",
       "      <td>1.457137e+09</td>\n",
       "      <td>1.457137e+09</td>\n",
       "      <td>...</td>\n",
       "      <td>w596h</td>\n",
       "      <td>False</td>\n",
       "      <td>False</td>\n",
       "      <td>False</td>\n",
       "      <td>False</td>\n",
       "      <td>1.726492e+09</td>\n",
       "      <td>1.341606e+09</td>\n",
       "      <td>False</td>\n",
       "      <td>384885844.0</td>\n",
       "      <td>True</td>\n",
       "    </tr>\n",
       "    <tr>\n",
       "      <th>4</th>\n",
       "      <td>40</td>\n",
       "      <td>1.726492e+09</td>\n",
       "      <td>1.726496e+09</td>\n",
       "      <td>2287</td>\n",
       "      <td>1604</td>\n",
       "      <td>forced_birth|pro_life</td>\n",
       "      <td>17</td>\n",
       "      <td>170</td>\n",
       "      <td>1.457137e+09</td>\n",
       "      <td>1.457137e+09</td>\n",
       "      <td>...</td>\n",
       "      <td>w596h</td>\n",
       "      <td>False</td>\n",
       "      <td>False</td>\n",
       "      <td>False</td>\n",
       "      <td>False</td>\n",
       "      <td>1.726493e+09</td>\n",
       "      <td>1.341606e+09</td>\n",
       "      <td>False</td>\n",
       "      <td>384886739.0</td>\n",
       "      <td>False</td>\n",
       "    </tr>\n",
       "  </tbody>\n",
       "</table>\n",
       "<p>5 rows × 33 columns</p>\n",
       "</div>"
      ]
     },
     "execution_count": 8,
     "metadata": {},
     "output_type": "execute_result"
    }
   ],
   "execution_count": 8
  },
  {
   "cell_type": "markdown",
   "metadata": {
    "collapsed": false,
    "jupyter": {
     "outputs_hidden": false
    }
   },
   "source": "### Model 1: Linguistic Adaptation as Linear Change Over Time"
  },
  {
   "cell_type": "code",
   "metadata": {
    "collapsed": false,
    "jupyter": {
     "outputs_hidden": false
    },
    "ExecuteTime": {
     "end_time": "2024-10-21T02:19:59.001451Z",
     "start_time": "2024-10-21T02:17:10.693211Z"
    }
   },
   "source": [
    "##########################################\n",
    "## Main model\n",
    "##########################################\n",
    "# model = \"Hxy ~ nx + ny + time_delta + x_comment_ups + y_comment_ups +  cc_is_parent + cc_is_sibling + cc_is_child + (1|x_user) + (1|y_user) + (1|y_submission_id)\"\n",
    "model = \"Hxy ~ nx + ny + tag_in_context + time_delta + x_comment_ups + y_comment_ups + (1|x_user) + (1|y_user) + (1|y_submission_id)\"\n",
    "\n",
    "##########################################\n",
    "\n",
    "start = dt.now()\n",
    "md = smf.mixedlm(model, data=df, groups=df['x_comment_id'])\n",
    "mdf = md.fit()\n",
    "print('completed in:', dt.now()-start)"
   ],
   "outputs": [
    {
     "name": "stdout",
     "output_type": "stream",
     "text": [
      "completed in: 0:02:48.292115\n"
     ]
    }
   ],
   "execution_count": 9
  },
  {
   "cell_type": "markdown",
   "metadata": {
    "collapsed": false,
    "jupyter": {
     "outputs_hidden": false
    }
   },
   "source": [
    "Reporting on the model outputs in a dataframe"
   ]
  },
  {
   "cell_type": "code",
   "metadata": {
    "collapsed": false,
    "jupyter": {
     "outputs_hidden": false
    },
    "ExecuteTime": {
     "end_time": "2024-10-21T02:19:59.069931Z",
     "start_time": "2024-10-21T02:19:59.005966Z"
    }
   },
   "source": [
    "reporting = pd.DataFrame()\n",
    "reporting['coefs'] = mdf.params\n",
    "reporting['stat'] = mdf.tvalues\n",
    "reporting['p'] = mdf.pvalues\n",
    "reporting['CI[.025, .975]'] = ['[{}]'.format(', '.join([np.format_float_scientific(x, precision=2) for x in ci.tolist()])) for ci in mdf.conf_int().values]\n",
    "\n",
    "reporting['coefs'] = reporting['coefs'].apply(lambda x: np.format_float_scientific(x, precision=2))\n",
    "reporting['stat'] = reporting['stat'].apply(lambda x: np.format_float_scientific(x, precision=2))\n",
    "reporting['p'] = reporting['p'].apply(lambda x: np.format_float_scientific(x, precision=2))\n",
    "\n",
    "reporting.head(100)"
   ],
   "outputs": [
    {
     "data": {
      "text/plain": [
       "                            coefs       stat          p  \\\n",
       "Intercept                2.07e-01   5.11e+00   3.17e-07   \n",
       "tag_in_context[T.True]  -1.18e-01  -1.00e+02     0.e+00   \n",
       "nx                       8.25e-02   3.04e+02     0.e+00   \n",
       "ny                      -8.09e-03  -1.51e+03     0.e+00   \n",
       "time_delta              -1.54e-10  -3.76e+01  6.07e-309   \n",
       "x_comment_ups            9.91e-05   6.88e-01   4.91e-01   \n",
       "y_comment_ups             4.4e-04   2.35e+02     0.e+00   \n",
       "1 | x_user               1.05e-08   2.41e-02   9.81e-01   \n",
       "1 | y_user               5.73e-07    2.2e+00    2.8e-02   \n",
       "1 | y_submission_id      1.59e-03   3.19e+02     0.e+00   \n",
       "Group Var                2.78e-01   1.88e+01   1.05e-78   \n",
       "\n",
       "                                CI[.025, .975]  \n",
       "Intercept                 [1.28e-01, 2.87e-01]  \n",
       "tag_in_context[T.True]  [-1.20e-01, -1.15e-01]  \n",
       "nx                         [8.2e-02, 8.31e-02]  \n",
       "ny                      [-8.10e-03, -8.08e-03]  \n",
       "time_delta              [-1.62e-10, -1.46e-10]  \n",
       "x_comment_ups            [-1.83e-04, 3.81e-04]  \n",
       "y_comment_ups             [4.36e-04, 4.43e-04]  \n",
       "1 | x_user               [-8.48e-07, 8.69e-07]  \n",
       "1 | y_user                [6.19e-08, 1.08e-06]  \n",
       "1 | y_submission_id       [1.58e-03, 1.59e-03]  \n",
       "Group Var                 [2.49e-01, 3.07e-01]  "
      ],
      "text/html": [
       "<div>\n",
       "<style scoped>\n",
       "    .dataframe tbody tr th:only-of-type {\n",
       "        vertical-align: middle;\n",
       "    }\n",
       "\n",
       "    .dataframe tbody tr th {\n",
       "        vertical-align: top;\n",
       "    }\n",
       "\n",
       "    .dataframe thead th {\n",
       "        text-align: right;\n",
       "    }\n",
       "</style>\n",
       "<table border=\"1\" class=\"dataframe\">\n",
       "  <thead>\n",
       "    <tr style=\"text-align: right;\">\n",
       "      <th></th>\n",
       "      <th>coefs</th>\n",
       "      <th>stat</th>\n",
       "      <th>p</th>\n",
       "      <th>CI[.025, .975]</th>\n",
       "    </tr>\n",
       "  </thead>\n",
       "  <tbody>\n",
       "    <tr>\n",
       "      <th>Intercept</th>\n",
       "      <td>2.07e-01</td>\n",
       "      <td>5.11e+00</td>\n",
       "      <td>3.17e-07</td>\n",
       "      <td>[1.28e-01, 2.87e-01]</td>\n",
       "    </tr>\n",
       "    <tr>\n",
       "      <th>tag_in_context[T.True]</th>\n",
       "      <td>-1.18e-01</td>\n",
       "      <td>-1.00e+02</td>\n",
       "      <td>0.e+00</td>\n",
       "      <td>[-1.20e-01, -1.15e-01]</td>\n",
       "    </tr>\n",
       "    <tr>\n",
       "      <th>nx</th>\n",
       "      <td>8.25e-02</td>\n",
       "      <td>3.04e+02</td>\n",
       "      <td>0.e+00</td>\n",
       "      <td>[8.2e-02, 8.31e-02]</td>\n",
       "    </tr>\n",
       "    <tr>\n",
       "      <th>ny</th>\n",
       "      <td>-8.09e-03</td>\n",
       "      <td>-1.51e+03</td>\n",
       "      <td>0.e+00</td>\n",
       "      <td>[-8.10e-03, -8.08e-03]</td>\n",
       "    </tr>\n",
       "    <tr>\n",
       "      <th>time_delta</th>\n",
       "      <td>-1.54e-10</td>\n",
       "      <td>-3.76e+01</td>\n",
       "      <td>6.07e-309</td>\n",
       "      <td>[-1.62e-10, -1.46e-10]</td>\n",
       "    </tr>\n",
       "    <tr>\n",
       "      <th>x_comment_ups</th>\n",
       "      <td>9.91e-05</td>\n",
       "      <td>6.88e-01</td>\n",
       "      <td>4.91e-01</td>\n",
       "      <td>[-1.83e-04, 3.81e-04]</td>\n",
       "    </tr>\n",
       "    <tr>\n",
       "      <th>y_comment_ups</th>\n",
       "      <td>4.4e-04</td>\n",
       "      <td>2.35e+02</td>\n",
       "      <td>0.e+00</td>\n",
       "      <td>[4.36e-04, 4.43e-04]</td>\n",
       "    </tr>\n",
       "    <tr>\n",
       "      <th>1 | x_user</th>\n",
       "      <td>1.05e-08</td>\n",
       "      <td>2.41e-02</td>\n",
       "      <td>9.81e-01</td>\n",
       "      <td>[-8.48e-07, 8.69e-07]</td>\n",
       "    </tr>\n",
       "    <tr>\n",
       "      <th>1 | y_user</th>\n",
       "      <td>5.73e-07</td>\n",
       "      <td>2.2e+00</td>\n",
       "      <td>2.8e-02</td>\n",
       "      <td>[6.19e-08, 1.08e-06]</td>\n",
       "    </tr>\n",
       "    <tr>\n",
       "      <th>1 | y_submission_id</th>\n",
       "      <td>1.59e-03</td>\n",
       "      <td>3.19e+02</td>\n",
       "      <td>0.e+00</td>\n",
       "      <td>[1.58e-03, 1.59e-03]</td>\n",
       "    </tr>\n",
       "    <tr>\n",
       "      <th>Group Var</th>\n",
       "      <td>2.78e-01</td>\n",
       "      <td>1.88e+01</td>\n",
       "      <td>1.05e-78</td>\n",
       "      <td>[2.49e-01, 3.07e-01]</td>\n",
       "    </tr>\n",
       "  </tbody>\n",
       "</table>\n",
       "</div>"
      ]
     },
     "execution_count": 10,
     "metadata": {},
     "output_type": "execute_result"
    }
   ],
   "execution_count": 10
  },
  {
   "cell_type": "code",
   "metadata": {
    "collapsed": false,
    "jupyter": {
     "outputs_hidden": false
    },
    "ExecuteTime": {
     "end_time": "2024-10-21T02:19:59.109496Z",
     "start_time": "2024-10-21T02:19:59.071376Z"
    }
   },
   "source": [
    "model_version = 'linear-time-difference'\n",
    "REPORT_NAME_ = REPORT_NAME.format(model_version)\n",
    "\n",
    "reporting.to_csv(REPORT_NAME_, encoding='utf-8')\n",
    "\n",
    "reporting['Var'] = reporting.index.values\n",
    "with open(REPORT_NAME_.replace('.csv', '.txt'), 'w') as f:\n",
    "    txt =  reporting[['Var', 'coefs', 'stat', 'p']].loc[:reporting.index[-2]].to_latex(index=False).replace('\\\\toprule', '\\\\hline').replace('\\\\midrule', '\\\\hline\\\\hline').replace('\\\\bottomrule', '\\\\hline')\n",
    "    f.write(txt)\n",
    "    f.close()"
   ],
   "outputs": [
    {
     "name": "stderr",
     "output_type": "stream",
     "text": [
      "/var/folders/bb/jfrx00ms7pv_jyvncsrvvlvm0000gn/T/ipykernel_4956/3606547680.py:8: FutureWarning: In future versions `DataFrame.to_latex` is expected to utilise the base implementation of `Styler.to_latex` for formatting and rendering. The arguments signature may therefore change. It is recommended instead to use `DataFrame.style.to_latex` which also contains additional functionality.\n",
      "  txt =  reporting[['Var', 'coefs', 'stat', 'p']].loc[:reporting.index[-2]].to_latex(index=False).replace('\\\\toprule', '\\\\hline').replace('\\\\midrule', '\\\\hline\\\\hline').replace('\\\\bottomrule', '\\\\hline')\n"
     ]
    }
   ],
   "execution_count": 11
  },
  {
   "metadata": {},
   "cell_type": "markdown",
   "source": "saving model performance metrics"
  },
  {
   "metadata": {
    "ExecuteTime": {
     "end_time": "2024-10-21T02:20:03.496200Z",
     "start_time": "2024-10-21T02:19:59.111212Z"
    }
   },
   "cell_type": "code",
   "source": [
    "llf = mdf.llf\n",
    "\n",
    "if not os.path.exists(MODEL_PERFORMANCE_NAME):\n",
    "    dfo = pd.DataFrame([{\n",
    "        'model': model_version, \n",
    "        'LLF': llf, \n",
    "        'params': len(reporting), \n",
    "        'n': df.shape[0],\n",
    "        'BIC': (-2 * llf) + (len(reporting) * np.log(df.shape[0]))\n",
    "    }])\n",
    "    dfo.to_csv(MODEL_PERFORMANCE_NAME, index=False, encoding='utf-8')\n",
    "else:\n",
    "    dfo = pd.DataFrame([{\n",
    "        'model': model_version, \n",
    "        'LLF': llf, \n",
    "        'params': len(reporting), \n",
    "        'n': df.shape[0],\n",
    "        'BIC': (-2 * llf) + (len(reporting) * np.log(df.shape[0]))\n",
    "    }])\n",
    "    dfo.to_csv(MODEL_PERFORMANCE_NAME, index=False, header=False, encoding='utf-8', mode='a')"
   ],
   "outputs": [],
   "execution_count": 12
  },
  {
   "metadata": {},
   "cell_type": "markdown",
   "source": "### Model 2: Linguistic Adaptation as Temporally Local"
  },
  {
   "metadata": {
    "ExecuteTime": {
     "end_time": "2024-10-21T02:22:46.157011Z",
     "start_time": "2024-10-21T02:20:03.502430Z"
    }
   },
   "cell_type": "code",
   "source": [
    "df['time_delta_'] = df['time_delta'].abs()\n",
    "##########################################\n",
    "## Main model\n",
    "##########################################\n",
    "# model = \"Hxy ~ nx + ny + time_delta + x_comment_ups + y_comment_ups +  cc_is_parent + cc_is_sibling + cc_is_child + (1|x_user) + (1|y_user) + (1|y_submission_id)\"\n",
    "model = \"Hxy ~ nx + ny + tag_in_context + time_delta_ + x_comment_ups + y_comment_ups + (1|x_user) + (1|y_user) + (1|y_submission_id)\"\n",
    "\n",
    "##########################################\n",
    "\n",
    "start = dt.now()\n",
    "md = smf.mixedlm(model, data=df, groups=df['x_comment_id'])\n",
    "mdf = md.fit()\n",
    "print('completed in:', dt.now()-start)"
   ],
   "outputs": [
    {
     "name": "stdout",
     "output_type": "stream",
     "text": [
      "completed in: 0:02:42.485432\n"
     ]
    }
   ],
   "execution_count": 13
  },
  {
   "metadata": {},
   "cell_type": "markdown",
   "source": "Reporting on the model outputs in a dataframe"
  },
  {
   "metadata": {
    "ExecuteTime": {
     "end_time": "2024-10-21T02:22:46.198827Z",
     "start_time": "2024-10-21T02:22:46.160669Z"
    }
   },
   "cell_type": "code",
   "source": [
    "reporting = pd.DataFrame()\n",
    "reporting['coefs'] = mdf.params\n",
    "reporting['stat'] = mdf.tvalues\n",
    "reporting['p'] = mdf.pvalues\n",
    "reporting['CI[.025, .975]'] = ['[{}]'.format(', '.join([np.format_float_scientific(x, precision=2) for x in ci.tolist()])) for ci in mdf.conf_int().values]\n",
    "\n",
    "reporting['coefs'] = reporting['coefs'].apply(lambda x: np.format_float_scientific(x, precision=2))\n",
    "reporting['stat'] = reporting['stat'].apply(lambda x: np.format_float_scientific(x, precision=2))\n",
    "reporting['p'] = reporting['p'].apply(lambda x: np.format_float_scientific(x, precision=2))\n",
    "\n",
    "reporting.head(100)"
   ],
   "outputs": [
    {
     "data": {
      "text/plain": [
       "                            coefs       stat         p          CI[.025, .975]\n",
       "Intercept                9.49e-02   2.33e+00  1.98e-02    [1.51e-02, 1.75e-01]\n",
       "tag_in_context[T.True]  -1.00e-01  -8.64e+01    0.e+00  [-1.02e-01, -9.77e-02]\n",
       "nx                       8.25e-02   3.02e+02    0.e+00     [8.2e-02, 8.30e-02]\n",
       "ny                      -8.19e-03  -1.56e+03    0.e+00  [-8.20e-03, -8.18e-03]\n",
       "time_delta_              1.13e-09   2.31e+02    0.e+00    [1.12e-09, 1.14e-09]\n",
       "x_comment_ups            1.28e-04   8.84e-01  3.77e-01   [-1.56e-04, 4.12e-04]\n",
       "y_comment_ups            3.81e-04   2.10e+02    0.e+00    [3.78e-04, 3.85e-04]\n",
       "1 | x_user               8.29e-09    1.9e-02  9.85e-01   [-8.49e-07, 8.65e-07]\n",
       "1 | y_user               2.45e-07   9.41e-01  3.47e-01   [-2.65e-07, 7.54e-07]\n",
       "1 | y_submission_id      1.36e-03   2.70e+02    0.e+00    [1.35e-03, 1.37e-03]\n",
       "Group Var                2.82e-01   1.86e+01  1.66e-77    [2.52e-01, 3.12e-01]"
      ],
      "text/html": [
       "<div>\n",
       "<style scoped>\n",
       "    .dataframe tbody tr th:only-of-type {\n",
       "        vertical-align: middle;\n",
       "    }\n",
       "\n",
       "    .dataframe tbody tr th {\n",
       "        vertical-align: top;\n",
       "    }\n",
       "\n",
       "    .dataframe thead th {\n",
       "        text-align: right;\n",
       "    }\n",
       "</style>\n",
       "<table border=\"1\" class=\"dataframe\">\n",
       "  <thead>\n",
       "    <tr style=\"text-align: right;\">\n",
       "      <th></th>\n",
       "      <th>coefs</th>\n",
       "      <th>stat</th>\n",
       "      <th>p</th>\n",
       "      <th>CI[.025, .975]</th>\n",
       "    </tr>\n",
       "  </thead>\n",
       "  <tbody>\n",
       "    <tr>\n",
       "      <th>Intercept</th>\n",
       "      <td>9.49e-02</td>\n",
       "      <td>2.33e+00</td>\n",
       "      <td>1.98e-02</td>\n",
       "      <td>[1.51e-02, 1.75e-01]</td>\n",
       "    </tr>\n",
       "    <tr>\n",
       "      <th>tag_in_context[T.True]</th>\n",
       "      <td>-1.00e-01</td>\n",
       "      <td>-8.64e+01</td>\n",
       "      <td>0.e+00</td>\n",
       "      <td>[-1.02e-01, -9.77e-02]</td>\n",
       "    </tr>\n",
       "    <tr>\n",
       "      <th>nx</th>\n",
       "      <td>8.25e-02</td>\n",
       "      <td>3.02e+02</td>\n",
       "      <td>0.e+00</td>\n",
       "      <td>[8.2e-02, 8.30e-02]</td>\n",
       "    </tr>\n",
       "    <tr>\n",
       "      <th>ny</th>\n",
       "      <td>-8.19e-03</td>\n",
       "      <td>-1.56e+03</td>\n",
       "      <td>0.e+00</td>\n",
       "      <td>[-8.20e-03, -8.18e-03]</td>\n",
       "    </tr>\n",
       "    <tr>\n",
       "      <th>time_delta_</th>\n",
       "      <td>1.13e-09</td>\n",
       "      <td>2.31e+02</td>\n",
       "      <td>0.e+00</td>\n",
       "      <td>[1.12e-09, 1.14e-09]</td>\n",
       "    </tr>\n",
       "    <tr>\n",
       "      <th>x_comment_ups</th>\n",
       "      <td>1.28e-04</td>\n",
       "      <td>8.84e-01</td>\n",
       "      <td>3.77e-01</td>\n",
       "      <td>[-1.56e-04, 4.12e-04]</td>\n",
       "    </tr>\n",
       "    <tr>\n",
       "      <th>y_comment_ups</th>\n",
       "      <td>3.81e-04</td>\n",
       "      <td>2.10e+02</td>\n",
       "      <td>0.e+00</td>\n",
       "      <td>[3.78e-04, 3.85e-04]</td>\n",
       "    </tr>\n",
       "    <tr>\n",
       "      <th>1 | x_user</th>\n",
       "      <td>8.29e-09</td>\n",
       "      <td>1.9e-02</td>\n",
       "      <td>9.85e-01</td>\n",
       "      <td>[-8.49e-07, 8.65e-07]</td>\n",
       "    </tr>\n",
       "    <tr>\n",
       "      <th>1 | y_user</th>\n",
       "      <td>2.45e-07</td>\n",
       "      <td>9.41e-01</td>\n",
       "      <td>3.47e-01</td>\n",
       "      <td>[-2.65e-07, 7.54e-07]</td>\n",
       "    </tr>\n",
       "    <tr>\n",
       "      <th>1 | y_submission_id</th>\n",
       "      <td>1.36e-03</td>\n",
       "      <td>2.70e+02</td>\n",
       "      <td>0.e+00</td>\n",
       "      <td>[1.35e-03, 1.37e-03]</td>\n",
       "    </tr>\n",
       "    <tr>\n",
       "      <th>Group Var</th>\n",
       "      <td>2.82e-01</td>\n",
       "      <td>1.86e+01</td>\n",
       "      <td>1.66e-77</td>\n",
       "      <td>[2.52e-01, 3.12e-01]</td>\n",
       "    </tr>\n",
       "  </tbody>\n",
       "</table>\n",
       "</div>"
      ]
     },
     "execution_count": 14,
     "metadata": {},
     "output_type": "execute_result"
    }
   ],
   "execution_count": 14
  },
  {
   "metadata": {
    "ExecuteTime": {
     "end_time": "2024-10-21T02:22:46.217945Z",
     "start_time": "2024-10-21T02:22:46.200922Z"
    }
   },
   "cell_type": "code",
   "source": [
    "model_version = 'locally-bound-time-difference'\n",
    "REPORT_NAME_ = REPORT_NAME.format(model_version)\n",
    "\n",
    "reporting.to_csv(REPORT_NAME_, encoding='utf-8')\n",
    "\n",
    "reporting['Var'] = reporting.index.values\n",
    "with open(REPORT_NAME_.replace('.csv', '.txt'), 'w') as f:\n",
    "    txt =  reporting[['Var', 'coefs', 'stat', 'p']].loc[:reporting.index[-2]].to_latex(index=False).replace('\\\\toprule', '\\\\hline').replace('\\\\midrule', '\\\\hline\\\\hline').replace('\\\\bottomrule', '\\\\hline')\n",
    "    f.write(txt)\n",
    "    f.close()"
   ],
   "outputs": [
    {
     "name": "stderr",
     "output_type": "stream",
     "text": [
      "/var/folders/bb/jfrx00ms7pv_jyvncsrvvlvm0000gn/T/ipykernel_4956/1364075799.py:8: FutureWarning: In future versions `DataFrame.to_latex` is expected to utilise the base implementation of `Styler.to_latex` for formatting and rendering. The arguments signature may therefore change. It is recommended instead to use `DataFrame.style.to_latex` which also contains additional functionality.\n",
      "  txt =  reporting[['Var', 'coefs', 'stat', 'p']].loc[:reporting.index[-2]].to_latex(index=False).replace('\\\\toprule', '\\\\hline').replace('\\\\midrule', '\\\\hline\\\\hline').replace('\\\\bottomrule', '\\\\hline')\n"
     ]
    }
   ],
   "execution_count": 15
  },
  {
   "metadata": {},
   "cell_type": "markdown",
   "source": "saving model performance metrics"
  },
  {
   "metadata": {
    "ExecuteTime": {
     "end_time": "2024-10-21T02:22:49.608466Z",
     "start_time": "2024-10-21T02:22:46.221453Z"
    }
   },
   "cell_type": "code",
   "source": [
    "llf = mdf.llf\n",
    "\n",
    "if not os.path.exists(MODEL_PERFORMANCE_NAME):\n",
    "    dfo = pd.DataFrame([{\n",
    "        'model': model_version, \n",
    "        'LLF': llf, \n",
    "        'params': len(reporting), \n",
    "        'n': df.shape[0],\n",
    "        'BIC': (-2 * llf) + (len(reporting) * np.log(df.shape[0]))\n",
    "    }])\n",
    "    dfo.to_csv(MODEL_PERFORMANCE_NAME, index=False, encoding='utf-8')\n",
    "else:\n",
    "    dfo = pd.DataFrame([{\n",
    "        'model': model_version, \n",
    "        'LLF': llf, \n",
    "        'params': len(reporting), \n",
    "        'n': df.shape[0],\n",
    "        'BIC': (-2 * llf) + (len(reporting) * np.log(df.shape[0]))\n",
    "    }])\n",
    "    dfo.to_csv(MODEL_PERFORMANCE_NAME, index=False, header=False, encoding='utf-8', mode='a')"
   ],
   "outputs": [],
   "execution_count": 16
  },
  {
   "metadata": {},
   "cell_type": "markdown",
   "source": "### Model 3: Linguistic Adaptation as Convergence Behavior Only"
  },
  {
   "metadata": {
    "ExecuteTime": {
     "end_time": "2024-10-21T02:25:33.943982Z",
     "start_time": "2024-10-21T02:22:49.618528Z"
    }
   },
   "cell_type": "code",
   "source": [
    "##########################################\n",
    "## Main model\n",
    "##########################################\n",
    "model = \"Hxy ~ nx + ny + tag_in_context + same_context + x_comment_ups + y_comment_ups + (1|x_user) + (1|y_user) + (1|y_submission_id)\"\n",
    "\n",
    "##########################################\n",
    "\n",
    "start = dt.now()\n",
    "md = smf.mixedlm(model, data=df, groups=df['x_comment_id'])\n",
    "mdf = md.fit()\n",
    "print('completed in:', dt.now()-start)"
   ],
   "outputs": [
    {
     "name": "stdout",
     "output_type": "stream",
     "text": [
      "completed in: 0:02:44.301646\n"
     ]
    }
   ],
   "execution_count": 17
  },
  {
   "metadata": {},
   "cell_type": "markdown",
   "source": "Reporting on the model outputs in a dataframe"
  },
  {
   "metadata": {
    "ExecuteTime": {
     "end_time": "2024-10-21T02:25:33.976194Z",
     "start_time": "2024-10-21T02:25:33.948099Z"
    }
   },
   "cell_type": "code",
   "source": [
    "reporting = pd.DataFrame()\n",
    "reporting['coefs'] = mdf.params\n",
    "reporting['stat'] = mdf.tvalues\n",
    "reporting['p'] = mdf.pvalues\n",
    "reporting['CI[.025, .975]'] = ['[{}]'.format(', '.join([np.format_float_scientific(x, precision=2) for x in ci.tolist()])) for ci in mdf.conf_int().values]\n",
    "\n",
    "reporting['coefs'] = reporting['coefs'].apply(lambda x: np.format_float_scientific(x, precision=2))\n",
    "reporting['stat'] = reporting['stat'].apply(lambda x: np.format_float_scientific(x, precision=2))\n",
    "reporting['p'] = reporting['p'].apply(lambda x: np.format_float_scientific(x, precision=2))\n",
    "\n",
    "reporting.head(100)"
   ],
   "outputs": [
    {
     "data": {
      "text/plain": [
       "                            coefs       stat         p          CI[.025, .975]\n",
       "Intercept                2.06e-01   5.09e+00  3.67e-07    [1.27e-01, 2.86e-01]\n",
       "tag_in_context[T.True]  -1.09e-01  -9.42e+01    0.e+00  [-1.11e-01, -1.07e-01]\n",
       "same_context[T.True]    -8.73e-01  -2.04e+02    0.e+00  [-8.81e-01, -8.64e-01]\n",
       "nx                       8.25e-02   3.03e+02    0.e+00     [8.2e-02, 8.30e-02]\n",
       "ny                      -8.12e-03  -1.55e+03    0.e+00  [-8.13e-03, -8.11e-03]\n",
       "x_comment_ups            1.29e-04   8.95e-01  3.71e-01   [-1.54e-04, 4.12e-04]\n",
       "y_comment_ups            4.69e-04   2.58e+02    0.e+00    [4.66e-04, 4.73e-04]\n",
       "1 | x_user               1.07e-08   2.45e-02  9.80e-01   [-8.47e-07, 8.68e-07]\n",
       "1 | y_user               3.35e-07   1.29e+00  1.98e-01   [-1.75e-07, 8.44e-07]\n",
       "1 | y_submission_id      1.63e-03    3.3e+02    0.e+00    [1.62e-03, 1.64e-03]\n",
       "Group Var                 2.8e-01   1.87e+01  3.71e-78    [2.50e-01, 3.09e-01]"
      ],
      "text/html": [
       "<div>\n",
       "<style scoped>\n",
       "    .dataframe tbody tr th:only-of-type {\n",
       "        vertical-align: middle;\n",
       "    }\n",
       "\n",
       "    .dataframe tbody tr th {\n",
       "        vertical-align: top;\n",
       "    }\n",
       "\n",
       "    .dataframe thead th {\n",
       "        text-align: right;\n",
       "    }\n",
       "</style>\n",
       "<table border=\"1\" class=\"dataframe\">\n",
       "  <thead>\n",
       "    <tr style=\"text-align: right;\">\n",
       "      <th></th>\n",
       "      <th>coefs</th>\n",
       "      <th>stat</th>\n",
       "      <th>p</th>\n",
       "      <th>CI[.025, .975]</th>\n",
       "    </tr>\n",
       "  </thead>\n",
       "  <tbody>\n",
       "    <tr>\n",
       "      <th>Intercept</th>\n",
       "      <td>2.06e-01</td>\n",
       "      <td>5.09e+00</td>\n",
       "      <td>3.67e-07</td>\n",
       "      <td>[1.27e-01, 2.86e-01]</td>\n",
       "    </tr>\n",
       "    <tr>\n",
       "      <th>tag_in_context[T.True]</th>\n",
       "      <td>-1.09e-01</td>\n",
       "      <td>-9.42e+01</td>\n",
       "      <td>0.e+00</td>\n",
       "      <td>[-1.11e-01, -1.07e-01]</td>\n",
       "    </tr>\n",
       "    <tr>\n",
       "      <th>same_context[T.True]</th>\n",
       "      <td>-8.73e-01</td>\n",
       "      <td>-2.04e+02</td>\n",
       "      <td>0.e+00</td>\n",
       "      <td>[-8.81e-01, -8.64e-01]</td>\n",
       "    </tr>\n",
       "    <tr>\n",
       "      <th>nx</th>\n",
       "      <td>8.25e-02</td>\n",
       "      <td>3.03e+02</td>\n",
       "      <td>0.e+00</td>\n",
       "      <td>[8.2e-02, 8.30e-02]</td>\n",
       "    </tr>\n",
       "    <tr>\n",
       "      <th>ny</th>\n",
       "      <td>-8.12e-03</td>\n",
       "      <td>-1.55e+03</td>\n",
       "      <td>0.e+00</td>\n",
       "      <td>[-8.13e-03, -8.11e-03]</td>\n",
       "    </tr>\n",
       "    <tr>\n",
       "      <th>x_comment_ups</th>\n",
       "      <td>1.29e-04</td>\n",
       "      <td>8.95e-01</td>\n",
       "      <td>3.71e-01</td>\n",
       "      <td>[-1.54e-04, 4.12e-04]</td>\n",
       "    </tr>\n",
       "    <tr>\n",
       "      <th>y_comment_ups</th>\n",
       "      <td>4.69e-04</td>\n",
       "      <td>2.58e+02</td>\n",
       "      <td>0.e+00</td>\n",
       "      <td>[4.66e-04, 4.73e-04]</td>\n",
       "    </tr>\n",
       "    <tr>\n",
       "      <th>1 | x_user</th>\n",
       "      <td>1.07e-08</td>\n",
       "      <td>2.45e-02</td>\n",
       "      <td>9.80e-01</td>\n",
       "      <td>[-8.47e-07, 8.68e-07]</td>\n",
       "    </tr>\n",
       "    <tr>\n",
       "      <th>1 | y_user</th>\n",
       "      <td>3.35e-07</td>\n",
       "      <td>1.29e+00</td>\n",
       "      <td>1.98e-01</td>\n",
       "      <td>[-1.75e-07, 8.44e-07]</td>\n",
       "    </tr>\n",
       "    <tr>\n",
       "      <th>1 | y_submission_id</th>\n",
       "      <td>1.63e-03</td>\n",
       "      <td>3.3e+02</td>\n",
       "      <td>0.e+00</td>\n",
       "      <td>[1.62e-03, 1.64e-03]</td>\n",
       "    </tr>\n",
       "    <tr>\n",
       "      <th>Group Var</th>\n",
       "      <td>2.8e-01</td>\n",
       "      <td>1.87e+01</td>\n",
       "      <td>3.71e-78</td>\n",
       "      <td>[2.50e-01, 3.09e-01]</td>\n",
       "    </tr>\n",
       "  </tbody>\n",
       "</table>\n",
       "</div>"
      ]
     },
     "execution_count": 18,
     "metadata": {},
     "output_type": "execute_result"
    }
   ],
   "execution_count": 18
  },
  {
   "metadata": {
    "ExecuteTime": {
     "end_time": "2024-10-21T02:25:33.996399Z",
     "start_time": "2024-10-21T02:25:33.977506Z"
    }
   },
   "cell_type": "code",
   "source": [
    "model_version = 'convergence-only-difference'\n",
    "REPORT_NAME_ = REPORT_NAME.format(model_version)\n",
    "\n",
    "reporting.to_csv(REPORT_NAME_, encoding='utf-8')\n",
    "\n",
    "reporting['Var'] = reporting.index.values\n",
    "with open(REPORT_NAME_.replace('.csv', '.txt'), 'w') as f:\n",
    "    txt =  reporting[['Var', 'coefs', 'stat', 'p']].loc[:reporting.index[-2]].to_latex(index=False).replace('\\\\toprule', '\\\\hline').replace('\\\\midrule', '\\\\hline\\\\hline').replace('\\\\bottomrule', '\\\\hline')\n",
    "    f.write(txt)\n",
    "    f.close()"
   ],
   "outputs": [
    {
     "name": "stderr",
     "output_type": "stream",
     "text": [
      "/var/folders/bb/jfrx00ms7pv_jyvncsrvvlvm0000gn/T/ipykernel_4956/1114041927.py:8: FutureWarning: In future versions `DataFrame.to_latex` is expected to utilise the base implementation of `Styler.to_latex` for formatting and rendering. The arguments signature may therefore change. It is recommended instead to use `DataFrame.style.to_latex` which also contains additional functionality.\n",
      "  txt =  reporting[['Var', 'coefs', 'stat', 'p']].loc[:reporting.index[-2]].to_latex(index=False).replace('\\\\toprule', '\\\\hline').replace('\\\\midrule', '\\\\hline\\\\hline').replace('\\\\bottomrule', '\\\\hline')\n"
     ]
    }
   ],
   "execution_count": 19
  },
  {
   "metadata": {},
   "cell_type": "markdown",
   "source": "saving model performance metrics"
  },
  {
   "metadata": {
    "ExecuteTime": {
     "end_time": "2024-10-21T02:25:37.962717Z",
     "start_time": "2024-10-21T02:25:33.998484Z"
    }
   },
   "cell_type": "code",
   "source": [
    "llf = mdf.llf\n",
    "\n",
    "if not os.path.exists(MODEL_PERFORMANCE_NAME):\n",
    "    dfo = pd.DataFrame([{\n",
    "        'model': model_version, \n",
    "        'LLF': llf, \n",
    "        'params': len(reporting), \n",
    "        'n': df.shape[0],\n",
    "        'BIC': (-2 * llf) + (len(reporting) * np.log(df.shape[0]))\n",
    "    }])\n",
    "    dfo.to_csv(MODEL_PERFORMANCE_NAME, index=False, encoding='utf-8')\n",
    "else:\n",
    "    dfo = pd.DataFrame([{\n",
    "        'model': model_version, \n",
    "        'LLF': llf, \n",
    "        'params': len(reporting), \n",
    "        'n': df.shape[0],\n",
    "        'BIC': (-2 * llf) + (len(reporting) * np.log(df.shape[0]))\n",
    "    }])\n",
    "    dfo.to_csv(MODEL_PERFORMANCE_NAME, index=False, header=False, encoding='utf-8', mode='a')"
   ],
   "outputs": [],
   "execution_count": 20
  },
  {
   "cell_type": "markdown",
   "metadata": {
    "collapsed": false,
    "jupyter": {
     "outputs_hidden": false
    }
   },
   "source": [
    "## Additional Visualizations/Analyses"
   ]
  },
  {
   "cell_type": "code",
   "metadata": {
    "collapsed": false,
    "jupyter": {
     "outputs_hidden": false
    }
   },
   "source": [
    "import seaborn as sns\n",
    "import matplotlib.pyplot as plt\n",
    "from scipy.stats import kruskal"
   ],
   "outputs": [],
   "execution_count": null
  },
  {
   "cell_type": "markdown",
   "metadata": {
    "collapsed": false,
    "jupyter": {
     "outputs_hidden": false
    }
   },
   "source": [
    "### Lolipop effects plot"
   ]
  },
  {
   "cell_type": "code",
   "metadata": {
    "collapsed": false,
    "jupyter": {
     "outputs_hidden": false
    }
   },
   "source": [
    "import pandas as pd\n",
    "import numpy as np\n",
    "\n",
    "# reporting = pd.read_csv('data/reports/antisemitism/report.csv')\n",
    "reporting = pd.read_csv(os.path.join(REPORTING_PATH,REPORT_NAME))\n",
    "reporting.index = reporting['Unnamed: 0'].values"
   ],
   "outputs": [],
   "execution_count": null
  },
  {
   "cell_type": "code",
   "metadata": {
    "collapsed": false,
    "jupyter": {
     "outputs_hidden": false
    }
   },
   "source": [
    "def lollipop_chart(df, label_col, length_col, save_path=None, aspect=1/15, plot_title='Predicted change in H'):\n",
    "    sns.set_style('darkgrid')\n",
    "    plt.hlines(y=df.index, xmin=0, xmax=df[length_col].values)\n",
    "    plt.plot(df[length_col].values, df.index, 'o')\n",
    "    plt.yticks(df.index, df[label_col].values, rotation=.45, fontsize='small')\n",
    "    plt.axvline(color='maroon')\n",
    "\n",
    "    xlim_delta = df[length_col].__abs__().max() + .1\n",
    "    plt.xlim(-xlim_delta, xlim_delta)\n",
    "    plt.gca().set_aspect(aspect)\n",
    "    plt.tight_layout()\n",
    "    plt.xlabel(plot_title)\n",
    "    if save_path:\n",
    "        plt.savefig(save_path)\n",
    "    plt.show()"
   ],
   "outputs": [],
   "execution_count": null
  },
  {
   "cell_type": "code",
   "metadata": {},
   "source": [
    "import plotly.graph_objs as go\n",
    "\n",
    "marker_offset = 0.0004\n",
    "\n",
    "def offset_signal(signal, marker_offset):\n",
    "    if abs(signal) <= marker_offset:\n",
    "        return 0\n",
    "    return signal - marker_offset if signal > 0 else signal + marker_offset\n",
    "\n",
    "def plotly_lollipop(df, label_col, length_col, save_path=None, plot_title='', color='blue', marker_size=2):\n",
    "    points = df[length_col].to_list()\n",
    "    heights = list(range(len(df)))\n",
    "    \n",
    "    data = [\n",
    "    go.Scatter(\n",
    "            x=points,\n",
    "            y=heights,\n",
    "            mode='markers',\n",
    "            marker=dict(\n",
    "                color=color,\n",
    "                size=marker_size\n",
    "            )\n",
    "        )\n",
    "    ]\n",
    "\n",
    "    layout = go.Layout(\n",
    "    shapes=[dict(\n",
    "            type='line',\n",
    "            xref='x',\n",
    "            yref='y',\n",
    "            y0=i,\n",
    "            x0=0,\n",
    "            y1=i,\n",
    "            x1=offset_signal(points[i], marker_offset),\n",
    "            line=dict(\n",
    "                color=color,\n",
    "                width=1.5\n",
    "            )\n",
    "        ) for i in range(len(points))],\n",
    "    )\n",
    "\n",
    "    fig = go.Figure(data, layout)\n",
    "\n",
    "    for idx in range(len(fig.data)):\n",
    "        fig.data[idx].y = df_param['cond'].to_list()\n",
    "\n",
    "    fig.add_vline(x=0, line_width=3, line_color=\"maroon\")\n",
    "    \n",
    "    return fig"
   ],
   "outputs": [],
   "execution_count": null
  },
  {
   "cell_type": "code",
   "metadata": {
    "collapsed": false,
    "jupyter": {
     "outputs_hidden": false
    }
   },
   "source": [
    "df_param = [\n",
    "    # x HS\n",
    "    ['HS', (reporting['coefs'].loc[['x_probs']]).sum()],\n",
    "    \n",
    "    # x AHS\n",
    "    ['AHS', (\n",
    "        reporting['coefs'].loc[['x_probs', 'x_target','x_probs:x_target']] #* (reporting['p'].loc[['x_probs', 'x_target','x_probs:x_target']] < .01)\n",
    "    ).sum()],\n",
    "    \n",
    "    # x AHS post-october 7th\n",
    "    ['AHS after Oct. 7, 2023', (\n",
    "        reporting['coefs'].loc[['x_probs', 'x_target', 'x_probs:x_target','after_october_7', 'after_october_7:x_target', 'after_october_7:x_probs', 'after_october_7:x_probs:x_target']] #* (reporting['p'].loc[['x_probs', 'x_target', 'x_probs:x_target','after_october_7', 'after_october_7:x_target', 'after_october_7:x_probs', 'after_october_7:x_probs:x_target']] < .01)\n",
    "    ).sum()],\n",
    "    \n",
    "    # # Y HS\n",
    "    # ['Y HS', (reporting['coefs'].loc[['y_probs']]).sum()],\n",
    "    # \n",
    "    # # Y AHS\n",
    "    # ['Y AHS', (\n",
    "    #     reporting['coefs'].loc[[ 'y_probs', 'y_target', 'y_probs:y_target']] #* (reporting['p'].loc[[ 'y_probs', 'y_target', 'y_probs:y_target']] < .01)\n",
    "    # ).sum()],\n",
    "    # \n",
    "    # # Y AHS post-october 7th\n",
    "    # ['Y AHS after Oct. 7, 2023', (\n",
    "    #     reporting['coefs'].loc[['y_probs', 'y_target', 'y_probs:y_target','after_october_7', 'after_october_7:y_target', 'after_october_7:y_probs','after_october_7:y_probs:y_target',]] #* (reporting['p'].loc[['y_probs', 'y_target', 'y_probs:y_target','after_october_7', 'after_october_7:y_target', 'after_october_7:y_probs','after_october_7:y_probs:y_target',]] <.01)\n",
    "    # ).sum()], \n",
    "][::-1]\n",
    "\n",
    "df_param = pd.DataFrame(\n",
    "    np.array(df_param, dtype=object),\n",
    "    columns=['cond', '$Delta$ H']\n",
    ")"
   ],
   "outputs": [],
   "execution_count": null
  },
  {
   "cell_type": "code",
   "metadata": {
    "collapsed": false,
    "jupyter": {
     "outputs_hidden": false
    }
   },
   "source": [
    "# lollipop_chart(\n",
    "#     df=df_param,\n",
    "#     label_col='cond',\n",
    "#     length_col='$Delta$ H',\n",
    "#     save_path=lollipop_vis_name,\n",
    "#     aspect=1/3,\n",
    "#     plot_title=''\n",
    "# )"
   ],
   "outputs": [],
   "execution_count": null
  },
  {
   "cell_type": "code",
   "metadata": {},
   "source": [
    "fig = plotly_lollipop(\n",
    "    df=df_param,\n",
    "    label_col='cond',\n",
    "    length_col='$Delta$ H',\n",
    "    marker_size=10\n",
    ")\n",
    "\n",
    "fig.show()"
   ],
   "outputs": [],
   "execution_count": null
  },
  {
   "cell_type": "code",
   "metadata": {},
   "source": [
    "fig.write_html('ahs-parent.html')"
   ],
   "outputs": [],
   "execution_count": null
  },
  {
   "cell_type": "code",
   "metadata": {},
   "source": [],
   "outputs": [],
   "execution_count": null
  }
 ],
 "metadata": {
  "kernelspec": {
   "display_name": "Python 3 (ipykernel)",
   "language": "python",
   "name": "python3"
  },
  "language_info": {
   "codemirror_mode": {
    "name": "ipython",
    "version": 3
   },
   "file_extension": ".py",
   "mimetype": "text/x-python",
   "name": "python",
   "nbconvert_exporter": "python",
   "pygments_lexer": "ipython3",
   "version": "3.9.0"
  }
 },
 "nbformat": 4,
 "nbformat_minor": 4
}
