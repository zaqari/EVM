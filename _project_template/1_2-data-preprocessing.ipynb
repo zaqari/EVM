{
 "cells": [
  {
   "metadata": {},
   "cell_type": "markdown",
   "source": "# Structuring datasets for processing",
   "id": "552588b24278f415"
  },
  {
   "metadata": {},
   "cell_type": "code",
   "source": [
    "import os\n",
    "import re\n",
    "from datetime import datetime as dt\n",
    "from tqdm import tqdm\n",
    "import numpy as np\n",
    "import pandas as pd\n",
    "\n",
    "RAW_DATA_LOCATION = 'data/raw/'\n",
    "INPUT_DATA_LOCATION = os.path.join(RAW_DATA_LOCATION, 'corpus.tsv')\n",
    "OUTPUT_DATA_LOCATION = os.path.join(RAW_DATA_LOCATION, 'corpus-localcontext.tsv')"
   ],
   "id": "b6033a55aadcabac",
   "outputs": [],
   "execution_count": null
  },
  {
   "metadata": {},
   "cell_type": "code",
   "source": [
    "import numpy as np\n",
    "import pandas as pd\n",
    "from itertools import combinations\n",
    "\n",
    "df = pd.read_table(INPUT_DATA_LOCATION, sep='\\t')"
   ],
   "id": "f2c5a1f37f0da8fa",
   "outputs": [],
   "execution_count": null
  },
  {
   "metadata": {},
   "cell_type": "code",
   "source": "df['parent_id_'] = [val.split('_')[-1] for val in tqdm(df['parent_id'].values)]",
   "id": "6d77e0c78e99402b",
   "outputs": [],
   "execution_count": null
  },
  {
   "metadata": {},
   "cell_type": "code",
   "source": [
    "data = []\n",
    "for pn, parent in enumerate(df['parent_id'].unique()):\n",
    "    print(parent)\n",
    "    sub = df.loc[df['parent_id'].isin([parent]) | df['comment_id'].isin([parent.split('_')[-1]])]\n",
    "    sub = pd.concat([sub, df.loc[df['parent_id_'].isin(sub['comment_id'].values)]], ignore_index=True).drop_duplicates()\n",
    "    \n",
    "    combos = list(combinations(sub.index, 2))\n",
    "    for combo in tqdm(combos):\n",
    "        d = sub.loc[combo[0]].rename({col:'x_'+col for col in list(df)}).to_dict()\n",
    "        d.update(sub.loc[combo[1]].rename({col:'y_'+col for col in list(df)}).to_dict())\n",
    "        \n",
    "        d['is_parent'] = d['x_comment_id'] == d['y_parent_id_']\n",
    "        d['is_child'] = d['y_comment_id'] == d['x_parent_id_']\n",
    "        d['is_sibling'] = d['x_parent_id'] == d['y_parent_id']\n",
    "        \n",
    "        if d['is_parent'] or d['is_child'] or d['is_sibling']:\n",
    "            data += [d]\n",
    "    \n",
    "    # x = sub.loc[combos[:,0]].copy().rename(columns={col: 'x_'+col for col in list(sub)})\n",
    "    # y = sub.loc[combos[:,1]].copy().rename(columns={col: 'y_'+col for col in list(sub)})\n",
    "    # \n",
    "    # sub = pd.concat([x,y], axis=1)\n",
    "    # \n",
    "    # sub['context_id'] = pn\n",
    "    # sub['is_parent'] = sub['x_comment_id'] == sub['y_parent_id_']\n",
    "    # sub['is_child'] = sub['y_comment_id'] == sub['x_parent_id_']\n",
    "    # sub['is_sibling'] = sub['x_parent_id'] == sub['y_parent_id']\n",
    "    # \n",
    "    # data += [sub]\n",
    "    \n",
    "    # sub.columns = ['y_' + col for col in list(sub)]\n",
    "    # sub[[col.replace('y_', 'x_') for col in list(sub)]] = None\n",
    "    # \n",
    "    # x_columns = [col for col in list(sub) if col.startswith('x_')]\n",
    "    # y_columns = [col for col in list(sub) if col.startswith('y_')]\n",
    "    # for i in sub.index:\n",
    "    #     sub[x_columns] = sub[y_columns].loc[i].values.tolist()\n",
    "    #     sub['is_parent'] = sub['x_comment_id'] = sub['y_parent_id_']\n",
    "    #     sub['is_child'] = sub['y_comment_id'] = sub['x_parent_id_']\n",
    "    #     sub['is_sibling'] = sub['x_parent_id'] = sub['y_parent_id']\n",
    "    #     \n",
    "    #     data += [\n",
    "    #         sub.loc[\n",
    "    #             sub['is_parent'] | sub['is_child'] | sub['is_sibling']\n",
    "    #         ].copy()\n",
    "    #     ]\n",
    "        \n",
    "data = pd.concat(data, ignore_index=True)"
   ],
   "id": "c79d495c02aef8fb",
   "outputs": [],
   "execution_count": null
  },
  {
   "metadata": {},
   "cell_type": "code",
   "source": "data.head()",
   "id": "3279718c4082bff6",
   "outputs": [],
   "execution_count": null
  },
  {
   "metadata": {},
   "cell_type": "code",
   "source": "data.to_csv(OUTPUT_DATA_LOCATION, sep='\\t', index=False, encoding='utf-8')",
   "id": "ad5c147ee7e2728",
   "outputs": [],
   "execution_count": null
  }
 ],
 "metadata": {
  "kernelspec": {
   "display_name": "Python 3",
   "language": "python",
   "name": "python3"
  },
  "language_info": {
   "codemirror_mode": {
    "name": "ipython",
    "version": 2
   },
   "file_extension": ".py",
   "mimetype": "text/x-python",
   "name": "python",
   "nbconvert_exporter": "python",
   "pygments_lexer": "ipython2",
   "version": "2.7.6"
  }
 },
 "nbformat": 4,
 "nbformat_minor": 5
}
