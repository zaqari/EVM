{
 "cells": [
  {
   "cell_type": "markdown",
   "id": "63c6f26b4ad57447",
   "metadata": {},
   "source": [
    "# Merging Checkpoints"
   ]
  },
  {
   "cell_type": "markdown",
   "id": "fb79c26abc66a74e",
   "metadata": {},
   "source": [
    "As you can see from the scripts included in this project, we ended up batching the comparisons between our keyword utterances ($k \\in K$) and our context utterances ($c \\in C$). Partially, this was to decrease the noise in the office where the tower is stored while running our tests.\n",
    "\n",
    "The following scripts are designed to stitch those pieces back together again, largely using the CEDA object/framework to do so."
   ]
  },
  {
   "cell_type": "code",
   "id": "d0956efba2d9a14b",
   "metadata": {
    "ExecuteTime": {
     "end_time": "2024-10-26T19:57:27.185426Z",
     "start_time": "2024-10-26T19:57:25.003101Z"
    }
   },
   "source": [
    "from shared.CEDA import ceda_model\n",
    "from tqdm import tqdm\n",
    "import pandas as pd\n",
    "import numpy as np\n",
    "import json\n",
    "import os"
   ],
   "outputs": [
    {
     "name": "stderr",
     "output_type": "stream",
     "text": [
      "[nltk_data] Downloading package stopwords to\n",
      "[nltk_data]     /Users/zacharyrosen/nltk_data...\n",
      "[nltk_data]   Package stopwords is already up-to-date!\n"
     ]
    }
   ],
   "execution_count": 1
  },
  {
   "cell_type": "code",
   "id": "22b58f0c8f1c1b91",
   "metadata": {
    "ExecuteTime": {
     "end_time": "2024-10-20T22:44:12.006340Z",
     "start_time": "2024-10-20T22:44:11.995519Z"
    }
   },
   "source": [
    "CKPT_PATH = 'data/ckpts'\n",
    "RAW_PATH = 'data/raw'\n",
    "OUT_PATH = 'data/results'\n",
    "OUT_NAME = 'ceda-results.csv'"
   ],
   "outputs": [],
   "execution_count": 2
  },
  {
   "cell_type": "code",
   "id": "15eedd03133b6e92",
   "metadata": {
    "ExecuteTime": {
     "end_time": "2024-10-20T22:44:12.012015Z",
     "start_time": "2024-10-20T22:44:12.008777Z"
    }
   },
   "source": [
    "df = []"
   ],
   "outputs": [],
   "execution_count": 3
  },
  {
   "cell_type": "code",
   "id": "3bfa56f293eeab79",
   "metadata": {
    "ExecuteTime": {
     "end_time": "2024-10-20T22:45:51.274782Z",
     "start_time": "2024-10-20T22:44:12.014113Z"
    }
   },
   "source": [
    "mod = ceda_model()\n",
    "\n",
    "files = [os.path.join(CKPT_PATH, f) for f in os.listdir(CKPT_PATH)]\n",
    "for f in tqdm(files):\n",
    "    mod.load_from_checkpoint(f)\n",
    "    df += [mod.graph_df(residualize=False)]"
   ],
   "outputs": [
    {
     "name": "stderr",
     "output_type": "stream",
     "text": [
      "Some weights of the model checkpoint at roberta-base were not used when initializing RobertaModel: ['lm_head.layer_norm.weight', 'lm_head.layer_norm.bias', 'lm_head.bias', 'lm_head.dense.weight', 'lm_head.dense.bias', 'lm_head.decoder.weight']\n",
      "- This IS expected if you are initializing RobertaModel from the checkpoint of a model trained on another task or with another architecture (e.g. initializing a BertForSequenceClassification model from a BertForPreTraining model).\n",
      "- This IS NOT expected if you are initializing RobertaModel from the checkpoint of a model that you expect to be exactly identical (initializing a BertForSequenceClassification model from a BertForSequenceClassification model).\n",
      "100%|██████████| 199/199 [01:36<00:00,  2.05it/s]\n"
     ]
    }
   ],
   "execution_count": 4
  },
  {
   "cell_type": "code",
   "id": "7a3574b492327c1a",
   "metadata": {
    "ExecuteTime": {
     "end_time": "2024-10-20T22:45:53.602565Z",
     "start_time": "2024-10-20T22:45:51.284409Z"
    }
   },
   "source": [
    "df = pd.concat(df, ignore_index=True)\n",
    "df.head()"
   ],
   "outputs": [
    {
     "data": {
      "text/plain": [
       "  x_submission_id  x_submission_created_at  x_comment_created_at x_comment_id  \\\n",
       "0         1b11mg2             1.709004e+09          1.709073e+09      ksg240g   \n",
       "1         1b11mg2             1.709004e+09          1.709073e+09      ksg240g   \n",
       "2         1fi412k             1.726492e+09          1.726493e+09      lneku7u   \n",
       "3         1fi412k             1.726492e+09          1.726493e+09      lneku7u   \n",
       "4         1fi412k             1.726492e+09          1.726496e+09      lneslb8   \n",
       "\n",
       "        x_user                  x_tag  x_line_no y_submission_id  \\\n",
       "0  Crea8talife               pro_life          9          49048d   \n",
       "1  Crea8talife               pro_life          9          49048d   \n",
       "2   StonkSalty               pro_life         16          49048d   \n",
       "3   StonkSalty               pro_life         16          49048d   \n",
       "4  crochet-fae  forced_birth|pro_life         17          49048d   \n",
       "\n",
       "   y_submission_created_at  y_comment_created_at y_comment_id  \\\n",
       "0             1.457137e+09          1.457137e+09       49048d   \n",
       "1             1.457137e+09          1.457137e+09       49048d   \n",
       "2             1.457137e+09          1.457137e+09       49048d   \n",
       "3             1.457137e+09          1.457137e+09       49048d   \n",
       "4             1.457137e+09          1.457137e+09       49048d   \n",
       "\n",
       "            y_user  y_tag  y_line_no    nx    ny       Hxy       Hyx  \n",
       "0  RebeccaHeinicke    NaN       5320  93.0  11.0  9.474005  0.926241  \n",
       "1  RebeccaHeinicke    NaN       6682  93.0  11.0  9.474005  0.926241  \n",
       "2  RebeccaHeinicke    NaN       5320  10.0  11.0  0.791789  0.931180  \n",
       "3  RebeccaHeinicke    NaN       6682  10.0  11.0  0.791789  0.931180  \n",
       "4  RebeccaHeinicke    NaN       5320  22.0  11.0  2.097525  0.899163  "
      ],
      "text/html": [
       "<div>\n",
       "<style scoped>\n",
       "    .dataframe tbody tr th:only-of-type {\n",
       "        vertical-align: middle;\n",
       "    }\n",
       "\n",
       "    .dataframe tbody tr th {\n",
       "        vertical-align: top;\n",
       "    }\n",
       "\n",
       "    .dataframe thead th {\n",
       "        text-align: right;\n",
       "    }\n",
       "</style>\n",
       "<table border=\"1\" class=\"dataframe\">\n",
       "  <thead>\n",
       "    <tr style=\"text-align: right;\">\n",
       "      <th></th>\n",
       "      <th>x_submission_id</th>\n",
       "      <th>x_submission_created_at</th>\n",
       "      <th>x_comment_created_at</th>\n",
       "      <th>x_comment_id</th>\n",
       "      <th>x_user</th>\n",
       "      <th>x_tag</th>\n",
       "      <th>x_line_no</th>\n",
       "      <th>y_submission_id</th>\n",
       "      <th>y_submission_created_at</th>\n",
       "      <th>y_comment_created_at</th>\n",
       "      <th>y_comment_id</th>\n",
       "      <th>y_user</th>\n",
       "      <th>y_tag</th>\n",
       "      <th>y_line_no</th>\n",
       "      <th>nx</th>\n",
       "      <th>ny</th>\n",
       "      <th>Hxy</th>\n",
       "      <th>Hyx</th>\n",
       "    </tr>\n",
       "  </thead>\n",
       "  <tbody>\n",
       "    <tr>\n",
       "      <th>0</th>\n",
       "      <td>1b11mg2</td>\n",
       "      <td>1.709004e+09</td>\n",
       "      <td>1.709073e+09</td>\n",
       "      <td>ksg240g</td>\n",
       "      <td>Crea8talife</td>\n",
       "      <td>pro_life</td>\n",
       "      <td>9</td>\n",
       "      <td>49048d</td>\n",
       "      <td>1.457137e+09</td>\n",
       "      <td>1.457137e+09</td>\n",
       "      <td>49048d</td>\n",
       "      <td>RebeccaHeinicke</td>\n",
       "      <td>NaN</td>\n",
       "      <td>5320</td>\n",
       "      <td>93.0</td>\n",
       "      <td>11.0</td>\n",
       "      <td>9.474005</td>\n",
       "      <td>0.926241</td>\n",
       "    </tr>\n",
       "    <tr>\n",
       "      <th>1</th>\n",
       "      <td>1b11mg2</td>\n",
       "      <td>1.709004e+09</td>\n",
       "      <td>1.709073e+09</td>\n",
       "      <td>ksg240g</td>\n",
       "      <td>Crea8talife</td>\n",
       "      <td>pro_life</td>\n",
       "      <td>9</td>\n",
       "      <td>49048d</td>\n",
       "      <td>1.457137e+09</td>\n",
       "      <td>1.457137e+09</td>\n",
       "      <td>49048d</td>\n",
       "      <td>RebeccaHeinicke</td>\n",
       "      <td>NaN</td>\n",
       "      <td>6682</td>\n",
       "      <td>93.0</td>\n",
       "      <td>11.0</td>\n",
       "      <td>9.474005</td>\n",
       "      <td>0.926241</td>\n",
       "    </tr>\n",
       "    <tr>\n",
       "      <th>2</th>\n",
       "      <td>1fi412k</td>\n",
       "      <td>1.726492e+09</td>\n",
       "      <td>1.726493e+09</td>\n",
       "      <td>lneku7u</td>\n",
       "      <td>StonkSalty</td>\n",
       "      <td>pro_life</td>\n",
       "      <td>16</td>\n",
       "      <td>49048d</td>\n",
       "      <td>1.457137e+09</td>\n",
       "      <td>1.457137e+09</td>\n",
       "      <td>49048d</td>\n",
       "      <td>RebeccaHeinicke</td>\n",
       "      <td>NaN</td>\n",
       "      <td>5320</td>\n",
       "      <td>10.0</td>\n",
       "      <td>11.0</td>\n",
       "      <td>0.791789</td>\n",
       "      <td>0.931180</td>\n",
       "    </tr>\n",
       "    <tr>\n",
       "      <th>3</th>\n",
       "      <td>1fi412k</td>\n",
       "      <td>1.726492e+09</td>\n",
       "      <td>1.726493e+09</td>\n",
       "      <td>lneku7u</td>\n",
       "      <td>StonkSalty</td>\n",
       "      <td>pro_life</td>\n",
       "      <td>16</td>\n",
       "      <td>49048d</td>\n",
       "      <td>1.457137e+09</td>\n",
       "      <td>1.457137e+09</td>\n",
       "      <td>49048d</td>\n",
       "      <td>RebeccaHeinicke</td>\n",
       "      <td>NaN</td>\n",
       "      <td>6682</td>\n",
       "      <td>10.0</td>\n",
       "      <td>11.0</td>\n",
       "      <td>0.791789</td>\n",
       "      <td>0.931180</td>\n",
       "    </tr>\n",
       "    <tr>\n",
       "      <th>4</th>\n",
       "      <td>1fi412k</td>\n",
       "      <td>1.726492e+09</td>\n",
       "      <td>1.726496e+09</td>\n",
       "      <td>lneslb8</td>\n",
       "      <td>crochet-fae</td>\n",
       "      <td>forced_birth|pro_life</td>\n",
       "      <td>17</td>\n",
       "      <td>49048d</td>\n",
       "      <td>1.457137e+09</td>\n",
       "      <td>1.457137e+09</td>\n",
       "      <td>49048d</td>\n",
       "      <td>RebeccaHeinicke</td>\n",
       "      <td>NaN</td>\n",
       "      <td>5320</td>\n",
       "      <td>22.0</td>\n",
       "      <td>11.0</td>\n",
       "      <td>2.097525</td>\n",
       "      <td>0.899163</td>\n",
       "    </tr>\n",
       "  </tbody>\n",
       "</table>\n",
       "</div>"
      ]
     },
     "execution_count": 5,
     "metadata": {},
     "output_type": "execute_result"
    }
   ],
   "execution_count": 5
  },
  {
   "cell_type": "markdown",
   "id": "c7faad022b4dbd8a",
   "metadata": {},
   "source": [
    "Stupidly, I left out some crucial information for ascertaining whether $x$ and $y$ (i.e. $k$ and $c$) are in the same context. That missing info being the parent comments for $x$ and $y$. To get those, I'm addding in the following script."
   ]
  },
  {
   "cell_type": "code",
   "id": "1aab27c84c68787e",
   "metadata": {
    "ExecuteTime": {
     "end_time": "2024-10-20T22:45:55.594711Z",
     "start_time": "2024-10-20T22:45:53.604601Z"
    }
   },
   "source": [
    "dfc = pd.read_csv(os.path.join(RAW_PATH, 'corpus-localcontext.csv'))\n",
    "dfc['parent_id_'] = [pid.split('_')[-1] for pid in tqdm(dfc['parent_id'].values)]\n",
    "\n",
    "# conversion to get parent ids from the line number\n",
    "conversion = {line_no: dfc['parent_id'].loc[line_no] for line_no in dfc.index}\n",
    "\n",
    "# conversion to get when the comment was created from parent comment ids\n",
    "#  used to get created at time for parent comments\n",
    "parent_created_at_conversion = {cid: dfc['comment_created_at'].loc[dfc['comment_id'].isin([cid])].values[0] for cid in dfc['comment_id'].unique()}\n",
    "\n",
    "# conversion to get comment ups from comment id\n",
    "comment_ups_conversion = {cid: comment_ups for cid, comment_ups in dfc[['comment_id', 'comment_ups']].values}\n",
    "\n",
    "# conversion to get all tags associated with a parent_id.\n",
    "parent_tags = {\n",
    "    pid: '|'.join(dfc['tag'].loc[dfc['parent_id_'].isin([pid]) & ~dfc['tag'].isna()])\n",
    "    for pid in dfc['parent_id_'].loc[~dfc['tag'].isna()].unique()\n",
    "}"
   ],
   "outputs": [
    {
     "name": "stderr",
     "output_type": "stream",
     "text": [
      "100%|██████████| 14007/14007 [00:00<00:00, 2317082.08it/s]\n"
     ]
    }
   ],
   "execution_count": 6
  },
  {
   "cell_type": "code",
   "id": "f10088a35fd0e3a6",
   "metadata": {
    "ExecuteTime": {
     "end_time": "2024-10-20T22:46:00.048380Z",
     "start_time": "2024-10-20T22:45:55.595923Z"
    }
   },
   "source": [
    "df['x_parent_id'] = [conversion[line_no] for line_no in tqdm(df['x_line_no'].values)]"
   ],
   "outputs": [
    {
     "name": "stderr",
     "output_type": "stream",
     "text": [
      "100%|██████████| 12174954/12174954 [00:03<00:00, 3081964.14it/s]\n"
     ]
    }
   ],
   "execution_count": 7
  },
  {
   "cell_type": "code",
   "id": "6373d10823bd0768",
   "metadata": {
    "ExecuteTime": {
     "end_time": "2024-10-20T22:46:04.151364Z",
     "start_time": "2024-10-20T22:46:00.057800Z"
    }
   },
   "source": [
    "df['y_parent_id'] = [conversion[line_no] for line_no in tqdm(df['y_line_no'].values)]"
   ],
   "outputs": [
    {
     "name": "stderr",
     "output_type": "stream",
     "text": [
      "100%|██████████| 12174954/12174954 [00:03<00:00, 3350534.42it/s]\n"
     ]
    }
   ],
   "execution_count": 8
  },
  {
   "metadata": {
    "ExecuteTime": {
     "end_time": "2024-10-20T22:46:09.014497Z",
     "start_time": "2024-10-20T22:46:04.152291Z"
    }
   },
   "cell_type": "code",
   "source": "df['x_comment_ups'] = [comment_ups_conversion[cid] for cid in tqdm(df['x_comment_id'].values)]",
   "id": "b12f548f13bf58bb",
   "outputs": [
    {
     "name": "stderr",
     "output_type": "stream",
     "text": [
      "100%|██████████| 12174954/12174954 [00:02<00:00, 4466861.74it/s]\n"
     ]
    }
   ],
   "execution_count": 9
  },
  {
   "metadata": {
    "ExecuteTime": {
     "end_time": "2024-10-20T22:46:14.033674Z",
     "start_time": "2024-10-20T22:46:09.015694Z"
    }
   },
   "cell_type": "code",
   "source": "df['y_comment_ups'] = [comment_ups_conversion[cid] for cid in tqdm(df['y_comment_id'].values)]",
   "id": "bf8c22be70db1897",
   "outputs": [
    {
     "name": "stderr",
     "output_type": "stream",
     "text": [
      "100%|██████████| 12174954/12174954 [00:02<00:00, 4570929.35it/s]\n"
     ]
    }
   ],
   "execution_count": 10
  },
  {
   "metadata": {},
   "cell_type": "markdown",
   "source": "I also want to create a context label, alongside of selecting a context beginning timestamp.",
   "id": "dd694e2ad90245be"
  },
  {
   "metadata": {
    "ExecuteTime": {
     "end_time": "2024-10-20T22:46:25.837416Z",
     "start_time": "2024-10-20T22:46:14.035296Z"
    }
   },
   "cell_type": "code",
   "source": [
    "df['x_parent_id_'] = [pid.split('_')[-1] for pid in tqdm(df['x_parent_id'].values)]\n",
    "df['y_parent_id_'] = [pid.split('_')[-1] for pid in tqdm(df['y_parent_id'].values)]\n",
    "\n",
    "df['x_parent_id_'].loc[df['x_parent_id_'].isin(['ROOT'])] = df['x_comment_id'].loc[df['x_parent_id_'].isin(['ROOT'])]\n",
    "df['y_parent_id_'].loc[df['y_parent_id_'].isin(['ROOT'])] = df['y_comment_id'].loc[df['y_parent_id_'].isin(['ROOT'])]\n",
    "\n",
    "df['x_context_id'] = df['x_parent_id_'].values\n",
    "df['y_context_id'] = None\n",
    "df['same_context'] = False"
   ],
   "id": "3843986a00a49f8d",
   "outputs": [
    {
     "name": "stderr",
     "output_type": "stream",
     "text": [
      "100%|██████████| 12174954/12174954 [00:04<00:00, 2924297.05it/s]\n",
      "100%|██████████| 12174954/12174954 [00:04<00:00, 2944435.93it/s]\n",
      "/var/folders/bb/jfrx00ms7pv_jyvncsrvvlvm0000gn/T/ipykernel_2969/704757825.py:4: SettingWithCopyWarning: \n",
      "A value is trying to be set on a copy of a slice from a DataFrame\n",
      "\n",
      "See the caveats in the documentation: https://pandas.pydata.org/pandas-docs/stable/user_guide/indexing.html#returning-a-view-versus-a-copy\n",
      "  df['x_parent_id_'].loc[df['x_parent_id_'].isin(['ROOT'])] = df['x_comment_id'].loc[df['x_parent_id_'].isin(['ROOT'])]\n",
      "/var/folders/bb/jfrx00ms7pv_jyvncsrvvlvm0000gn/T/ipykernel_2969/704757825.py:5: SettingWithCopyWarning: \n",
      "A value is trying to be set on a copy of a slice from a DataFrame\n",
      "\n",
      "See the caveats in the documentation: https://pandas.pydata.org/pandas-docs/stable/user_guide/indexing.html#returning-a-view-versus-a-copy\n",
      "  df['y_parent_id_'].loc[df['y_parent_id_'].isin(['ROOT'])] = df['y_comment_id'].loc[df['y_parent_id_'].isin(['ROOT'])]\n"
     ]
    }
   ],
   "execution_count": 11
  },
  {
   "metadata": {
    "ExecuteTime": {
     "end_time": "2024-10-20T22:46:26.998437Z",
     "start_time": "2024-10-20T22:46:25.839270Z"
    }
   },
   "cell_type": "code",
   "source": [
    "# get children and label context\n",
    "sel = df['x_comment_id'] == df['y_parent_id_']\n",
    "df['cc_is_child'] = sel\n",
    "df['y_context_id'].loc[sel] = df['x_context_id'].loc[sel]\n",
    "# df['y_tag'].loc[sel] = df['x_tag'].loc[sel]\n",
    "df['same_context'].loc[sel] = True"
   ],
   "id": "369c27a5034d9788",
   "outputs": [
    {
     "name": "stderr",
     "output_type": "stream",
     "text": [
      "/var/folders/bb/jfrx00ms7pv_jyvncsrvvlvm0000gn/T/ipykernel_2969/3705163525.py:4: SettingWithCopyWarning: \n",
      "A value is trying to be set on a copy of a slice from a DataFrame\n",
      "\n",
      "See the caveats in the documentation: https://pandas.pydata.org/pandas-docs/stable/user_guide/indexing.html#returning-a-view-versus-a-copy\n",
      "  df['y_context_id'].loc[sel] = df['x_context_id'].loc[sel]\n",
      "/var/folders/bb/jfrx00ms7pv_jyvncsrvvlvm0000gn/T/ipykernel_2969/3705163525.py:6: SettingWithCopyWarning: \n",
      "A value is trying to be set on a copy of a slice from a DataFrame\n",
      "\n",
      "See the caveats in the documentation: https://pandas.pydata.org/pandas-docs/stable/user_guide/indexing.html#returning-a-view-versus-a-copy\n",
      "  df['same_context'].loc[sel] = True\n"
     ]
    }
   ],
   "execution_count": 12
  },
  {
   "metadata": {
    "ExecuteTime": {
     "end_time": "2024-10-20T22:46:28.061374Z",
     "start_time": "2024-10-20T22:46:26.999738Z"
    }
   },
   "cell_type": "code",
   "source": [
    "# get siblings and label context\n",
    "sel = df['x_parent_id'] == df['y_parent_id']\n",
    "df['cc_is_sibling'] = sel\n",
    "df['y_context_id'].loc[sel] = df['x_context_id'].loc[sel]\n",
    "# df['y_tag'].loc[sel] = df['x_tag'].loc[sel]\n",
    "df['same_context'].loc[sel] = True"
   ],
   "id": "4ebd7e4b67e3b11b",
   "outputs": [
    {
     "name": "stderr",
     "output_type": "stream",
     "text": [
      "/var/folders/bb/jfrx00ms7pv_jyvncsrvvlvm0000gn/T/ipykernel_2969/645839342.py:4: SettingWithCopyWarning: \n",
      "A value is trying to be set on a copy of a slice from a DataFrame\n",
      "\n",
      "See the caveats in the documentation: https://pandas.pydata.org/pandas-docs/stable/user_guide/indexing.html#returning-a-view-versus-a-copy\n",
      "  df['y_context_id'].loc[sel] = df['x_context_id'].loc[sel]\n",
      "/var/folders/bb/jfrx00ms7pv_jyvncsrvvlvm0000gn/T/ipykernel_2969/645839342.py:6: SettingWithCopyWarning: \n",
      "A value is trying to be set on a copy of a slice from a DataFrame\n",
      "\n",
      "See the caveats in the documentation: https://pandas.pydata.org/pandas-docs/stable/user_guide/indexing.html#returning-a-view-versus-a-copy\n",
      "  df['same_context'].loc[sel] = True\n"
     ]
    }
   ],
   "execution_count": 13
  },
  {
   "metadata": {
    "ExecuteTime": {
     "end_time": "2024-10-20T22:46:29.480337Z",
     "start_time": "2024-10-20T22:46:28.063153Z"
    }
   },
   "cell_type": "code",
   "source": [
    "# get parents and label context\n",
    "sel = df['y_comment_id'] == df['x_parent_id_']\n",
    "df['cc_is_parent'] = sel\n",
    "df['y_context_id'].loc[sel] = df['x_context_id'].loc[sel]\n",
    "# df['y_tag'].loc[sel] = df['x_tag'].loc[sel]\n",
    "df['same_context'].loc[sel] = True"
   ],
   "id": "f945ec0c5558e426",
   "outputs": [
    {
     "name": "stderr",
     "output_type": "stream",
     "text": [
      "/var/folders/bb/jfrx00ms7pv_jyvncsrvvlvm0000gn/T/ipykernel_2969/1697470135.py:4: SettingWithCopyWarning: \n",
      "A value is trying to be set on a copy of a slice from a DataFrame\n",
      "\n",
      "See the caveats in the documentation: https://pandas.pydata.org/pandas-docs/stable/user_guide/indexing.html#returning-a-view-versus-a-copy\n",
      "  df['y_context_id'].loc[sel] = df['x_context_id'].loc[sel]\n",
      "/var/folders/bb/jfrx00ms7pv_jyvncsrvvlvm0000gn/T/ipykernel_2969/1697470135.py:6: SettingWithCopyWarning: \n",
      "A value is trying to be set on a copy of a slice from a DataFrame\n",
      "\n",
      "See the caveats in the documentation: https://pandas.pydata.org/pandas-docs/stable/user_guide/indexing.html#returning-a-view-versus-a-copy\n",
      "  df['same_context'].loc[sel] = True\n"
     ]
    }
   ],
   "execution_count": 14
  },
  {
   "metadata": {},
   "cell_type": "code",
   "source": [
    "# df['x_context_time'] = [parent_created_at_conversion[cid] \n",
    "#                         if cid in parent_created_at_conversion.keys() else None \n",
    "#                         for cid in tqdm(df['x_context_id'].values)\n",
    "#                         ] #df['x_context_id'].replace(parent_created_at_conversion)\n",
    "# \n",
    "# df['y_context_time'] = [parent_created_at_conversion[cid] \n",
    "#                         if cid in parent_created_at_conversion.keys() else None \n",
    "#                         for cid in tqdm(df['y_context_id'].values)\n",
    "#                         ] #df['x_context_id'].replace(parent_created_at_conversion)"
   ],
   "id": "fa5519831c9f16d2",
   "outputs": [],
   "execution_count": null
  },
  {
   "metadata": {},
   "cell_type": "code",
   "source": "# df['y_context_id'].loc[(~df['y_context_id'].isna() & df['y_context_time'].isna())].value_counts()",
   "id": "efec51e0d5835824",
   "outputs": [],
   "execution_count": null
  },
  {
   "metadata": {
    "ExecuteTime": {
     "end_time": "2024-10-20T22:53:27.379556Z",
     "start_time": "2024-10-20T22:52:40.660535Z"
    }
   },
   "cell_type": "code",
   "source": [
    "s1 = df['y_comment_id'].loc[df['cc_is_child']].unique()\n",
    "s2 = df['y_comment_id'].loc[df['cc_is_parent'] | df['cc_is_sibling']].unique()\n",
    "\n",
    "only_as_child_comments = list(set(s1).difference(set(s2)))\n",
    "only_as_child_context_ids = {comment: df['x_parent_id_'].loc[df['y_comment_id'].isin([comment]) & df['same_context']].values[0] for comment in only_as_child_comments}"
   ],
   "id": "a4afd54f3386ecf7",
   "outputs": [],
   "execution_count": 15
  },
  {
   "metadata": {
    "ExecuteTime": {
     "end_time": "2024-10-20T22:53:57.238167Z",
     "start_time": "2024-10-20T22:53:45.568868Z"
    }
   },
   "cell_type": "code",
   "source": [
    "df['x_context_time'] = [parent_created_at_conversion[cid] \n",
    "                        if cid in parent_created_at_conversion.keys() else None \n",
    "                        for cid in tqdm(df['x_context_id'].values)\n",
    "                        ] #df['x_context_id'].replace(parent_created_at_conversion)\n",
    "\n",
    "df['y_context_time'] = [parent_created_at_conversion[cid] \n",
    "                        if cid in parent_created_at_conversion.keys() else None \n",
    "                        for cid in tqdm(df['y_context_id'].values)\n",
    "                        ] #df['x_context_id'].replace(parent_created_at_conversion)"
   ],
   "id": "1754db84a3feb49a",
   "outputs": [
    {
     "name": "stderr",
     "output_type": "stream",
     "text": [
      "100%|██████████| 12174954/12174954 [00:04<00:00, 2920884.65it/s]\n",
      "100%|██████████| 12174954/12174954 [00:03<00:00, 3494660.08it/s]\n"
     ]
    }
   ],
   "execution_count": 17
  },
  {
   "metadata": {
    "ExecuteTime": {
     "end_time": "2024-10-20T23:02:49.803512Z",
     "start_time": "2024-10-20T22:54:06.772680Z"
    }
   },
   "cell_type": "code",
   "source": [
    "sel = df['y_comment_id'].isin(only_as_child_comments)\n",
    "\n",
    "all_other_y_contexts = dict()\n",
    "for comment in df['y_comment_id'].loc[df['same_context'] & ~sel].unique():\n",
    "    responses = df[['y_context_id', 'y_context_time']].loc[df['y_comment_id'].isin([comment]) & df['same_context']].values\n",
    "    all_other_y_contexts[comment] = responses[:,0][responses[:,1].argmin()]\n",
    "\n",
    "df['y_context_id'].loc[~sel & (~df['same_context'])] = [all_other_y_contexts[comment] for comment in tqdm(df['y_comment_id'].loc[~sel & (~df['same_context'])].values)]\n",
    "\n",
    "df['y_context_id'].loc[sel] = [only_as_child_context_ids[comment] for comment in tqdm(df['y_comment_id'].loc[sel].values)]"
   ],
   "id": "78f56062e4829a88",
   "outputs": [
    {
     "name": "stderr",
     "output_type": "stream",
     "text": [
      "100%|██████████| 8106183/8106183 [00:01<00:00, 4417004.03it/s]\n",
      "/var/folders/bb/jfrx00ms7pv_jyvncsrvvlvm0000gn/T/ipykernel_2969/2983978423.py:8: SettingWithCopyWarning: \n",
      "A value is trying to be set on a copy of a slice from a DataFrame\n",
      "\n",
      "See the caveats in the documentation: https://pandas.pydata.org/pandas-docs/stable/user_guide/indexing.html#returning-a-view-versus-a-copy\n",
      "  df['y_context_id'].loc[~sel & (~df['same_context'])] = [all_other_y_contexts[comment] for comment in tqdm(df['y_comment_id'].loc[~sel & (~df['same_context'])].values)]\n",
      "100%|██████████| 3971550/3971550 [00:00<00:00, 4501415.33it/s]\n",
      "/var/folders/bb/jfrx00ms7pv_jyvncsrvvlvm0000gn/T/ipykernel_2969/2983978423.py:10: SettingWithCopyWarning: \n",
      "A value is trying to be set on a copy of a slice from a DataFrame\n",
      "\n",
      "See the caveats in the documentation: https://pandas.pydata.org/pandas-docs/stable/user_guide/indexing.html#returning-a-view-versus-a-copy\n",
      "  df['y_context_id'].loc[sel] = [only_as_child_context_ids[comment] for comment in tqdm(df['y_comment_id'].loc[sel].values)]\n"
     ]
    }
   ],
   "execution_count": 18
  },
  {
   "metadata": {},
   "cell_type": "code",
   "source": [
    "# sel = df.loc[df['same_context']]\n",
    "# context_conversion = {yid: sel[['y_context_id', 'y_context_time', 'x_tag']].loc[sel['y_parent_id_'].isin([yid])].values for yid in sel['y_parent_id_'].unique()}"
   ],
   "id": "109530ef5d9e13c3",
   "outputs": [],
   "execution_count": null
  },
  {
   "metadata": {},
   "cell_type": "code",
   "source": [
    "# # comparisons across contexts\n",
    "# sel = ~df['y_context_id'].isna()\n",
    "# for cid in tqdm(df['y_comment_id'].loc[sel].unique()):\n",
    "#     sub = df.loc[sel & df['y_comment_id'].isin([cid])]\n",
    "#     min_ = sub['y_context_time'].min()\n",
    "#     earliest_head = sub['y_context_id'].loc[sub['y_context_time']==min_].values\n",
    "#     df['y_context_id'].loc[~sel & df['y_comment_id'].isin([cid])] = earliest_head[0]"
   ],
   "id": "ae50c1543b8d1cf7",
   "outputs": [],
   "execution_count": null
  },
  {
   "metadata": {
    "ExecuteTime": {
     "end_time": "2024-10-20T23:03:29.536078Z",
     "start_time": "2024-10-20T23:03:26.852127Z"
    }
   },
   "cell_type": "code",
   "source": "df['y_context_id'].isin(df['x_context_id'].unique()).mean()",
   "id": "7b46fb1dbd66ed20",
   "outputs": [
    {
     "data": {
      "text/plain": [
       "1.0"
      ]
     },
     "execution_count": 19,
     "metadata": {},
     "output_type": "execute_result"
    }
   ],
   "execution_count": 19
  },
  {
   "metadata": {
    "ExecuteTime": {
     "end_time": "2024-10-20T23:03:39.825015Z",
     "start_time": "2024-10-20T23:03:39.110345Z"
    }
   },
   "cell_type": "code",
   "source": [
    "# everything else:\n",
    "sel = df['y_context_id'].isna()\n",
    "print(sel.sum())\n",
    "# df['y_context_id'].loc[sel] = df['y_parent_id_'].loc[sel]"
   ],
   "id": "62cfc77e854579bf",
   "outputs": [
    {
     "name": "stdout",
     "output_type": "stream",
     "text": [
      "0\n"
     ]
    }
   ],
   "execution_count": 20
  },
  {
   "metadata": {
    "ExecuteTime": {
     "end_time": "2024-10-20T23:04:03.630625Z",
     "start_time": "2024-10-20T23:03:50.200065Z"
    }
   },
   "cell_type": "code",
   "source": [
    "df['x_context_time'] = [parent_created_at_conversion[cid] \n",
    "                        if cid in parent_created_at_conversion.keys() else None \n",
    "                        for cid in tqdm(df['x_context_id'].values)\n",
    "                        ] #df['x_context_id'].replace(parent_created_at_conversion)\n",
    "\n",
    "df['y_context_time'] = [parent_created_at_conversion[cid] \n",
    "                        if cid in parent_created_at_conversion.keys() else None \n",
    "                        for cid in tqdm(df['y_context_id'].values)\n",
    "                        ] #df['x_context_id'].replace(parent_created_at_conversion)"
   ],
   "id": "2dea810affb84d13",
   "outputs": [
    {
     "name": "stderr",
     "output_type": "stream",
     "text": [
      "100%|██████████| 12174954/12174954 [00:03<00:00, 3095963.41it/s]\n",
      "100%|██████████| 12174954/12174954 [00:03<00:00, 3082343.08it/s]\n"
     ]
    }
   ],
   "execution_count": 21
  },
  {
   "metadata": {},
   "cell_type": "markdown",
   "source": "Adding the context time for all the y_contexts, one last time . . . ",
   "id": "9887d9bad76df2a6"
  },
  {
   "metadata": {},
   "cell_type": "code",
   "source": [
    "# sel = df['y_context_time'].isna()\n",
    "# df['y_context_time'].loc[sel] = [parent_created_at_conversion[cid] \n",
    "#                         if cid in parent_created_at_conversion.keys() else None \n",
    "#                         for cid in tqdm(df['y_context_id'].loc[sel].values)\n",
    "#                         ] #df['x_context_id'].replace(parent_created_at_conversion)"
   ],
   "id": "8301a2d0a888f690",
   "outputs": [],
   "execution_count": null
  },
  {
   "metadata": {
    "ExecuteTime": {
     "end_time": "2024-10-20T23:05:12.806769Z",
     "start_time": "2024-10-20T23:04:03.635128Z"
    }
   },
   "cell_type": "code",
   "source": [
    "possible_y_tags = {\n",
    "    xcid: '|'.join(df['x_tag'].loc[df['x_context_id'].isin([xcid])].unique())\n",
    "    for xcid in df['x_context_id'].unique()\n",
    "}\n",
    "\n",
    "df['y_tag'] = [\n",
    "    possible_y_tags[ycid] if ycid in possible_y_tags.keys() \n",
    "    else None \n",
    "    for ycid in tqdm(df['y_context_id'].values)\n",
    "]"
   ],
   "id": "eb6147a106edf730",
   "outputs": [
    {
     "name": "stderr",
     "output_type": "stream",
     "text": [
      "100%|██████████| 12174954/12174954 [00:03<00:00, 3407743.68it/s]\n"
     ]
    }
   ],
   "execution_count": 22
  },
  {
   "metadata": {},
   "cell_type": "markdown",
   "source": "And some last checks.",
   "id": "f0e1d110f6b73aa2"
  },
  {
   "metadata": {},
   "cell_type": "code",
   "source": "df.isna().sum()",
   "id": "b82c52f2db4e7dd8",
   "outputs": [],
   "execution_count": null
  },
  {
   "metadata": {},
   "cell_type": "code",
   "source": "df['same_context'].loc[df['y_tag'].isna()].value_counts()",
   "id": "8884b43e22508306",
   "outputs": [],
   "execution_count": null
  },
  {
   "cell_type": "markdown",
   "id": "db7e146bca532071",
   "metadata": {},
   "source": [
    "Just in case, I also want to note when the $x$ and $y$ authors are the same."
   ]
  },
  {
   "metadata": {
    "ExecuteTime": {
     "end_time": "2024-10-20T23:05:12.816739Z",
     "start_time": "2024-10-20T23:05:12.808801Z"
    }
   },
   "cell_type": "code",
   "source": [
    "del df['x_parent_id_']\n",
    "del df['y_parent_id_']"
   ],
   "id": "80f287a52fda99e9",
   "outputs": [],
   "execution_count": 23
  },
  {
   "cell_type": "code",
   "id": "e33b18b82b992e6f",
   "metadata": {
    "ExecuteTime": {
     "end_time": "2024-10-20T23:05:13.731177Z",
     "start_time": "2024-10-20T23:05:12.817805Z"
    }
   },
   "source": [
    "df['same_author'] = df['x_user'] == df['y_user']"
   ],
   "outputs": [],
   "execution_count": 24
  },
  {
   "metadata": {
    "ExecuteTime": {
     "end_time": "2024-10-20T23:05:13.785232Z",
     "start_time": "2024-10-20T23:05:13.733059Z"
    }
   },
   "cell_type": "code",
   "source": "df['same_author'].value_counts()",
   "id": "831f80a7290334e0",
   "outputs": [
    {
     "data": {
      "text/plain": [
       "False    12170042\n",
       "True         4912\n",
       "Name: same_author, dtype: int64"
      ]
     },
     "execution_count": 25,
     "metadata": {},
     "output_type": "execute_result"
    }
   ],
   "execution_count": 25
  },
  {
   "cell_type": "markdown",
   "id": "a8f33437a0328b29",
   "metadata": {},
   "source": [
    "Let's also take a moment now and anonymize some of the data (and save our anonymization key locally)"
   ]
  },
  {
   "cell_type": "code",
   "id": "73dc0044a1e985f6",
   "metadata": {
    "ExecuteTime": {
     "end_time": "2024-10-20T23:07:07.555623Z",
     "start_time": "2024-10-20T23:05:13.786642Z"
    }
   },
   "source": [
    "anonymize_columns = [['x_user', 'y_user'], ['x_comment_id', 'y_comment_id'], ['x_submission_id', 'y_submission_id']]\n",
    "for cols in anonymize_columns:\n",
    "    values = np.unique(df[cols].values)\n",
    "    values = np.random.choice(values, size=(len(values),), replace=False)\n",
    "    \n",
    "    conversion = {val:i+1 for i,val in enumerate(values)}\n",
    "    \n",
    "    # save conversion dictionary\n",
    "    f = open(\n",
    "        os.path.join(\n",
    "            OUT_PATH, \n",
    "            cols[0].replace('x_', '').replace('y_', '')+'.json'\n",
    "        ), \n",
    "        'w'\n",
    "    )\n",
    "    f.write(json.dumps(conversion,indent=4))\n",
    "    f.close()\n",
    "    \n",
    "    # anonymize the column\n",
    "    for col in cols:\n",
    "        print(col)\n",
    "        df[col] = [conversion[val] for val in tqdm(df[col].values)]"
   ],
   "outputs": [
    {
     "name": "stdout",
     "output_type": "stream",
     "text": [
      "x_user\n"
     ]
    },
    {
     "name": "stderr",
     "output_type": "stream",
     "text": [
      "100%|██████████| 12174954/12174954 [00:02<00:00, 4517161.90it/s]\n"
     ]
    },
    {
     "name": "stdout",
     "output_type": "stream",
     "text": [
      "y_user\n"
     ]
    },
    {
     "name": "stderr",
     "output_type": "stream",
     "text": [
      "100%|██████████| 12174954/12174954 [00:02<00:00, 4760389.80it/s]\n"
     ]
    },
    {
     "name": "stdout",
     "output_type": "stream",
     "text": [
      "x_comment_id\n"
     ]
    },
    {
     "name": "stderr",
     "output_type": "stream",
     "text": [
      "100%|██████████| 12174954/12174954 [00:02<00:00, 4697857.58it/s]\n"
     ]
    },
    {
     "name": "stdout",
     "output_type": "stream",
     "text": [
      "y_comment_id\n"
     ]
    },
    {
     "name": "stderr",
     "output_type": "stream",
     "text": [
      "100%|██████████| 12174954/12174954 [00:03<00:00, 4012023.33it/s]\n"
     ]
    },
    {
     "name": "stdout",
     "output_type": "stream",
     "text": [
      "x_submission_id\n"
     ]
    },
    {
     "name": "stderr",
     "output_type": "stream",
     "text": [
      "100%|██████████| 12174954/12174954 [00:02<00:00, 4862790.66it/s]\n"
     ]
    },
    {
     "name": "stdout",
     "output_type": "stream",
     "text": [
      "y_submission_id\n"
     ]
    },
    {
     "name": "stderr",
     "output_type": "stream",
     "text": [
      "100%|██████████| 12174954/12174954 [00:02<00:00, 5067351.38it/s]\n"
     ]
    }
   ],
   "execution_count": 26
  },
  {
   "cell_type": "markdown",
   "id": "90365ec1e3d989f6",
   "metadata": {},
   "source": [
    "Finishing this, let's save the data."
   ]
  },
  {
   "cell_type": "code",
   "id": "ace17b546b6890c3",
   "metadata": {
    "ExecuteTime": {
     "end_time": "2024-10-20T23:09:35.311836Z",
     "start_time": "2024-10-20T23:07:07.557988Z"
    }
   },
   "source": [
    "df.to_csv(os.path.join(OUT_PATH, OUT_NAME), index=False, encoding='utf-8')"
   ],
   "outputs": [],
   "execution_count": 27
  },
  {
   "metadata": {
    "ExecuteTime": {
     "end_time": "2024-10-20T23:09:35.334460Z",
     "start_time": "2024-10-20T23:09:35.321325Z"
    }
   },
   "cell_type": "code",
   "source": "df.shape",
   "id": "686336084fb3e06a",
   "outputs": [
    {
     "data": {
      "text/plain": [
       "(12174954, 31)"
      ]
     },
     "execution_count": 28,
     "metadata": {},
     "output_type": "execute_result"
    }
   ],
   "execution_count": 28
  },
  {
   "metadata": {},
   "cell_type": "markdown",
   "source": "",
   "id": "db121aa11950f572"
  },
  {
   "metadata": {
    "ExecuteTime": {
     "end_time": "2024-10-21T01:32:20.813640Z",
     "start_time": "2024-10-21T01:32:19.258716Z"
    }
   },
   "cell_type": "code",
   "source": "df['y_tag'].value_counts()",
   "id": "34bcd222b964f591",
   "outputs": [
    {
     "data": {
      "text/plain": [
       "pro_life                                       9185165\n",
       "forced_birth                                   1741309\n",
       "forced_birth|pro_life                           615898\n",
       "pro_life|forced_birth                           430779\n",
       "pro_life|forced_birth|pro_life                  110285\n",
       "forced_birth|pro_life|forced_birth|pro_life      55148\n",
       "forced_birth|pro_life|pro_life                   36370\n",
       "Name: y_tag, dtype: int64"
      ]
     },
     "execution_count": 30,
     "metadata": {},
     "output_type": "execute_result"
    }
   ],
   "execution_count": 30
  },
  {
   "metadata": {},
   "cell_type": "code",
   "outputs": [],
   "execution_count": null,
   "source": "",
   "id": "2d2528b4c8f669bb"
  }
 ],
 "metadata": {
  "kernelspec": {
   "display_name": "Python 3 (ipykernel)",
   "language": "python",
   "name": "python3"
  },
  "language_info": {
   "codemirror_mode": {
    "name": "ipython",
    "version": 3
   },
   "file_extension": ".py",
   "mimetype": "text/x-python",
   "name": "python",
   "nbconvert_exporter": "python",
   "pygments_lexer": "ipython3",
   "version": "3.12.4"
  }
 },
 "nbformat": 4,
 "nbformat_minor": 5
}
